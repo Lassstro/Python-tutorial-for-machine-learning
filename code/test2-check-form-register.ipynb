{
 "cells": [
  {
   "attachments": {},
   "cell_type": "markdown",
   "metadata": {},
   "source": [
    "# Bài tập 2:"
   ]
  },
  {
   "attachments": {},
   "cell_type": "markdown",
   "metadata": {},
   "source": [
    "Yêu cầu: Viết hàm Kiểm tra thông tin đăng kí trong form đăng kí tài khoản\n",
    "\n",
    "- Kiểm tra 2 giá trị đầu vào là user_name và password của form đăng kí tài khoản\n",
    "- Yêu cầu:\n",
    "    - user_name:\n",
    "        - Kí tự cho phép A-Z, a-z, 0-9\n",
    "        - số kí tự từ 8 - 12 kí tự\n",
    "        - không chứa khoảng trắng\n",
    "        - không chứa các kí tự đặc biệt\n",
    "    - password:\n",
    "        - số kí tự từ 8-12 kí tự\n",
    "        - Bắt buộc có chữ cái viết hoa, chữ cái thường, số và kí tự đặc biệt \n",
    "\n",
    "- ví dụ: \n",
    "    - user_name hợp lệ: Phong123, Trinh321, Anhphong, anhphong\n",
    "    - user_name không hợp lệ: phong (Nhỏ hơn 8 kí tự), phong123$# (chứa kí tự đặc biệt), phong phong (chứa khoảng trắng)\n",
    "    - password hợp lệ: Phong123@\n",
    "    - password không hợp lệ: phong123@ (không chứa chữ viết hoa), Phong123(không chứa kí tự đặc biệt), ...."
   ]
  },
  {
   "attachments": {},
   "cell_type": "markdown",
   "metadata": {},
   "source": [
    "# Lời giải bài tập 2:"
   ]
  },
  {
   "attachments": {},
   "cell_type": "markdown",
   "metadata": {},
   "source": [
    "## Bước 1: Xác định mục tiêu, keyword"
   ]
  },
  {
   "attachments": {},
   "cell_type": "markdown",
   "metadata": {},
   "source": [
    "Đầu vào: 2 giá trị được nhập từ người dùng: user_name: str, password: str\n",
    "\n",
    "Thực hiện: 2 function check_user_name, check_password\n",
    "\n",
    "Đầu ra: True nếu hợp lệ, False nếu không hợp lệ\n",
    "\n",
    "Cụ thể:\n",
    "- Ta cần xử lí kiểm tra một chuỗi string, vì vậy sẽ google với từ khóa string method python xem có những phương thức nào để xử lí: https://www.w3schools.com/python/python_strings_methods.asp\n",
    "- Xác định từng phần mà giải quyết từng phần\n",
    "- Gộp lại và cho vào vòng lặp để yêu cầu nhập lại nếu không thỏa mãn"
   ]
  },
  {
   "attachments": {},
   "cell_type": "markdown",
   "metadata": {},
   "source": [
    "## Chia thành từng phần và giải quyết lần lượt nhé"
   ]
  },
  {
   "attachments": {},
   "cell_type": "markdown",
   "metadata": {},
   "source": [
    "### Kí tự cho phép A-Z, a-z, 0-9:"
   ]
  },
  {
   "attachments": {},
   "cell_type": "markdown",
   "metadata": {},
   "source": [
    "Dùng phương thức isalnum() để kiểm tra chuỗi có các kí tự đặc biệt hay không. Nó sẽ trả về True nếu toàn bộ kí tự trong chuỗi là alphabet (A-Z, a-z) và numbers (0-9). Ngược lại trả về False. Ngoài ra có phương thức isnumeric() để kiểm tra chữ số và isalpha() để kiểm tra chữ cái"
   ]
  },
  {
   "cell_type": "code",
   "execution_count": 7,
   "metadata": {},
   "outputs": [
    {
     "name": "stdout",
     "output_type": "stream",
     "text": [
      "False\n",
      "False\n",
      "True\n"
     ]
    }
   ],
   "source": [
    "my_str = \"123232323ádfsf\"\n",
    "print(my_str.isnumeric())\n",
    "print(my_str.isalpha())\n",
    "print(my_str.isalnum())"
   ]
  },
  {
   "attachments": {},
   "cell_type": "markdown",
   "metadata": {},
   "source": [
    "### Số kí tự từ 8 - 12 kí tự:"
   ]
  },
  {
   "attachments": {},
   "cell_type": "markdown",
   "metadata": {},
   "source": [
    "Kiểm tra đơn giản bằng hàm len()"
   ]
  },
  {
   "cell_type": "code",
   "execution_count": 9,
   "metadata": {},
   "outputs": [
    {
     "name": "stdout",
     "output_type": "stream",
     "text": [
      "số kí tự là 4\n",
      "không hợp lệ\n"
     ]
    }
   ],
   "source": [
    "my_str = \"HHHh\"\n",
    "length_str = len(my_str)\n",
    "print(f\"số kí tự là {length_str}\")\n",
    "if 8 <= length_str <= 12:\n",
    "    print('hợp lệ')\n",
    "else:\n",
    "    print('không hợp lệ')"
   ]
  },
  {
   "attachments": {},
   "cell_type": "markdown",
   "metadata": {},
   "source": [
    "### Bắt buộc có chữ cái viết hoa, chữ cái thường, số và kí tự đặc biệt"
   ]
  },
  {
   "attachments": {},
   "cell_type": "markdown",
   "metadata": {},
   "source": [
    "Cái này hợp khó hơn 1 tí. Ta cũng xét từng yêu cầu:\n",
    "\n",
    "1. Kiểm tra trong chuỗi có chữ cái in hoa hay không?\n",
    "2. Kiểm tra trong chuỗi có chữ cái thường hay không?\n",
    "3. Kiểm tra trong chuỗi có chữ số hay không?\n",
    "4. Kiểm tra trong chuỗi có kí tự đặc biệt hay không?\n",
    "\n",
    "Khi cả 4 yêu cầu trên thỏa mãn thì password mới hợp lệ"
   ]
  },
  {
   "attachments": {},
   "cell_type": "markdown",
   "metadata": {},
   "source": [
    "1. Kiểm tra trong chuỗi có chữ cái in hoa hay không?"
   ]
  },
  {
   "cell_type": "code",
   "execution_count": 12,
   "metadata": {},
   "outputs": [
    {
     "name": "stdout",
     "output_type": "stream",
     "text": [
      "True\n"
     ]
    }
   ],
   "source": [
    "my_str = \"hHihiL\"\n",
    "check_upper = False\n",
    "for character in my_str:\n",
    "    if character.isupper():\n",
    "        check_upper = True\n",
    "        break\n",
    "print(check_upper)"
   ]
  },
  {
   "attachments": {},
   "cell_type": "markdown",
   "metadata": {},
   "source": [
    "2. Kiểm tra trong chuỗi có chữ cái in thường"
   ]
  },
  {
   "cell_type": "code",
   "execution_count": 16,
   "metadata": {},
   "outputs": [
    {
     "name": "stdout",
     "output_type": "stream",
     "text": [
      "True\n"
     ]
    }
   ],
   "source": [
    "my_str = \"DAaSDAS\"\n",
    "check_lower = False\n",
    "for character in my_str:\n",
    "    if character.islower():\n",
    "        check_lower = True\n",
    "        break\n",
    "print(check_lower)"
   ]
  },
  {
   "attachments": {},
   "cell_type": "markdown",
   "metadata": {},
   "source": [
    "3. Kiểm tra trong chuỗi có chữa cái chữ số không"
   ]
  },
  {
   "cell_type": "code",
   "execution_count": 17,
   "metadata": {},
   "outputs": [
    {
     "name": "stdout",
     "output_type": "stream",
     "text": [
      "True\n"
     ]
    }
   ],
   "source": [
    "my_str = \"DASDAS1\"\n",
    "check_number = False\n",
    "for character in my_str:\n",
    "    if character.isnumeric():\n",
    "        check_number = True\n",
    "        break\n",
    "print(check_number)"
   ]
  },
  {
   "attachments": {},
   "cell_type": "markdown",
   "metadata": {},
   "source": [
    "4. Kiểm tra trong chuỗi có chữa kí tự đặc biệt không"
   ]
  },
  {
   "cell_type": "code",
   "execution_count": 27,
   "metadata": {},
   "outputs": [
    {
     "name": "stdout",
     "output_type": "stream",
     "text": [
      "True\n"
     ]
    }
   ],
   "source": [
    "my_str = \"dfghdf\"\n",
    "check_special_character = False\n",
    "for character in my_str:\n",
    "    if not character.isalnum():\n",
    "        check_special_character = True\n",
    "        break\n",
    "print(check_special_character)"
   ]
  },
  {
   "cell_type": "code",
   "execution_count": 39,
   "metadata": {},
   "outputs": [
    {
     "name": "stdout",
     "output_type": "stream",
     "text": [
      "!\"#$%&'()*+,-./:;<=>?@[\\]^_`{|}~\n",
      "0123456789abcdefghijklmnopqrstuvwxyzABCDEFGHIJKLMNOPQRSTUVWXYZ!\"#$%&'()*+,-./:;<=>?@[\\]^_`{|}~ \t\n",
      "\u000b\f\n"
     ]
    }
   ],
   "source": [
    "import string\n",
    "\n",
    "print(string.punctuation)\n",
    "print(string.printable)"
   ]
  },
  {
   "attachments": {},
   "cell_type": "markdown",
   "metadata": {},
   "source": [
    "Như vậy chúng ta đã kiểm tra được hết các yêu cầu, giờ kết hợp lại nếu thỏa mãn hết thì password của ta mới hợp lệ"
   ]
  },
  {
   "cell_type": "code",
   "execution_count": 23,
   "metadata": {},
   "outputs": [
    {
     "name": "stdout",
     "output_type": "stream",
     "text": [
      "False\n",
      "True\n",
      "True\n",
      "True\n",
      "Không hợp lệ\n"
     ]
    }
   ],
   "source": [
    "my_str = \"hdh123d$\"\n",
    "check_upper = False\n",
    "check_lower = False\n",
    "check_number = False\n",
    "check_special_character = False\n",
    "for character in my_str:\n",
    "    if character.isupper():\n",
    "        check_upper = True\n",
    "        continue\n",
    "    if character.islower():\n",
    "        check_lower = True\n",
    "        continue\n",
    "    if character.isnumeric():\n",
    "        check_number = True\n",
    "        continue\n",
    "    if not character.isalnum():\n",
    "        check_special_character = True\n",
    "        continue\n",
    "print(check_upper)\n",
    "print(check_lower)\n",
    "print(check_number)\n",
    "print(check_special_character)\n",
    "if (check_upper and check_lower and check_number and check_special_character):\n",
    "    print('Hợp lệ')\n",
    "else:\n",
    "    print(\"Không hợp lệ\")"
   ]
  },
  {
   "attachments": {},
   "cell_type": "markdown",
   "metadata": {},
   "source": [
    "## Hoàn thành chương trình"
   ]
  },
  {
   "cell_type": "code",
   "execution_count": null,
   "metadata": {},
   "outputs": [],
   "source": [
    "while True:\n",
    "    user_name = input(\"Nhập tên đăng nhập: \")\n",
    "    pass_word = input(\"Nhập mật khẩu: \")\n",
    "    # loại bỏ khoảng trắng 2 đầu\n",
    "    user_name = user_name.strip()\n",
    "    pass_word = pass_word.strip()\n",
    "    # Kiểm tra tên đăng nhập\n",
    "    if len(user_name) < 8 or len(user_name) > 12:\n",
    "        print(\"Tên đăng nhập không hợp lệ. Tên đăng nhập cần có 8-12 kí tự, Hãy kiểm tra lại\")\n",
    "        continue\n",
    "    if not user_name.isalnum():\n",
    "        print(\"Tên đăng nhập không hợp lệ. Tên đăng nhập chỉ chứa kí tự chữ và số. Hãy kiểm tra lại\")\n",
    "        continue\n",
    "    print(\"Tên đăng nhập hợp lệ\")\n",
    "    # Kiểm tra mật khẩu\n",
    "    if len(pass_word) < 8 or len(pass_word)> 12:\n",
    "        print(\"Mật khẩu không hợp lệ. Mật khẩu cần có 8-12 kí tự\")\n",
    "        continue\n",
    "    check_upper = False\n",
    "    check_lower = False\n",
    "    check_number = False\n",
    "    check_special_character = False\n",
    "    for character in pass_word:\n",
    "        if character.isupper():\n",
    "            check_upper = True\n",
    "            continue\n",
    "        if character.islower():\n",
    "            check_lower = True\n",
    "            continue\n",
    "        if character.isnumeric():\n",
    "            check_number = True\n",
    "            continue\n",
    "        if not character.isalnum():\n",
    "            check_special_character = True\n",
    "            continue\n",
    "    if check_upper and check_lower and check_number and check_special_character:\n",
    "        print('Hợp lệ')\n",
    "        break\n",
    "    else:\n",
    "        print(\"Mật khẩu không hợp lệ. Mật khẩu bắt buộc có chữ cái viết hoa, chữ cái thường, số và kí tự đặc biệt. Hãy kiểm tra lại\")"
   ]
  },
  {
   "attachments": {},
   "cell_type": "markdown",
   "metadata": {},
   "source": [
    "Danghieu"
   ]
  }
 ],
 "metadata": {
  "kernelspec": {
   "display_name": "base",
   "language": "python",
   "name": "python3"
  },
  "language_info": {
   "codemirror_mode": {
    "name": "ipython",
    "version": 3
   },
   "file_extension": ".py",
   "mimetype": "text/x-python",
   "name": "python",
   "nbconvert_exporter": "python",
   "pygments_lexer": "ipython3",
   "version": "3.8.3"
  },
  "orig_nbformat": 4
 },
 "nbformat": 4,
 "nbformat_minor": 2
}
