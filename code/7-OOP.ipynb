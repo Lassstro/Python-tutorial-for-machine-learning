{
 "cells": [
  {
   "cell_type": "markdown",
   "metadata": {},
   "source": [
    "<h1 style=\"text-align: center;\">Lesson 7: OOP - Object-oriented programming</h1>"
   ]
  },
  {
   "attachments": {},
   "cell_type": "markdown",
   "metadata": {},
   "source": [
    "# Đặt vấn đề"
   ]
  },
  {
   "attachments": {},
   "cell_type": "markdown",
   "metadata": {},
   "source": [
    "Trong tự nhiên, có sự vật hiện tượng luôn có mối liên hệ với nhau. Thông qua việc phân loại, phân lớp, ta có thể xây dựng hệ thống sự vật có mối liên hệ nhau. Ví dụ như các lớp, chi, bộ trong sinh học: Các động vật có vú, các động vật trên cạn, các động vật có 4 chân, con người, con chó, con mèo, ... Những khái niệm này nhằm chỉ một nhóm các động vật có các đặc điểm giống nhau.\n",
    "\n",
    "Tiếp sau đó, mỗi con vật lại có những đặc điểm khác nhau. Vì vật ta dùng tên để biểu thì các đặc điểm cụ thể nào đó.\n",
    "\n",
    "Ví dụ: Con người A, con người B, con chó C, con mèo D, ...\n",
    "\n",
    "Con người A: da trắng, tóc vàng, mũi cao, biết chạy nhảy, biết chơi nhạc\n",
    "\n",
    "Con người B: da đen, tóc nâu, mũi tẹt, biết lập trình\n",
    "\n",
    "Như vậy, trong lập trình cũng có một khái niệm tương tự cho các quản lí các đối tượng này. Khi định nghĩa một đối tượng là con chó C, người ta sẽ lấy những thuộc tính chung của con chó và thêm những thuộc tính riêng của con chó C này\n",
    "\n",
    "Ví dụ: Nhưng con chó đều có những thuộc tính chung như 4 chân, có lông, trung thành với chủ,...\n",
    "        Con chó C lại có những đặc điểm riêng nhưng nó là giống chó Husky, nó thích ăn lẩu,... :)))\n",
    "\n",
    "Trong lập trình, có một cách thức xử lí chương trình đó là hướng đối tượng, nó mang ý nghĩa tương đương như ví dụ trên. Sau đây ta sẽ đi tìm hiểu về các phân chia đối tượng này trong lập trình."
   ]
  },
  {
   "attachments": {},
   "cell_type": "markdown",
   "metadata": {},
   "source": [
    "# OOP là gì?"
   ]
  },
  {
   "attachments": {},
   "cell_type": "markdown",
   "metadata": {},
   "source": [
    "OOP là một kĩ thuật lập trình cho phép tạo ra các đối tượng để trừu tượng hóa 1 đối tượng thực tế (đưa các đối tượng trong thực tế vào trong code). Cho phép lập trình viên tương tác với các đối tượng này.\n",
    "\n",
    "* Lớp có thể hiểu là một bản thiết kế để tạo ra một thực thể nào đó, là tập hợp nhiều thuộc tính đặc trưng cho đối tượng được tạo ra từ lớp này. VD: Con mèo (tên, màu sắc, có đuôi, tai, chân, ...)\n",
    "\n",
    "* Đối tượng là một thực thể của 1 lớp nào đó, được tạo ra từ lớp đó. VD: Mèo mun (tên là mèo mun, màu đen, có đuôi dài, 2 tai, 4 chân, ....)\n",
    "\n",
    "Một đối tượng bao gồm: thuộc tính (attributes) và phương thức (methods).\n",
    "\n",
    "- Thuộc tính (attributes) chính là những thông tin, đặc điểm của đối tượng. VD: Con mèo (màu sắc, có đuôi, 2 tai, bốn chân, ...)\n",
    "\n",
    "- Phương thức (methods) là những thao tác, hành động mà đối tượng đó có thể thực hiện. VD: Con mèo (ăn, chạy nhảy, cắn, gào, rên, ....)\n",
    "\n",
    "OOP tuân theo một số nguyên lý cơ bản, gồm có 4 nguyên lý: Tính đóng gói, Tính kế thừa, TÍnh bao đóng, Tính đa hình."
   ]
  },
  {
   "attachments": {},
   "cell_type": "markdown",
   "metadata": {},
   "source": [
    "# Các nguyên lý cơ bản của OOP"
   ]
  },
  {
   "attachments": {},
   "cell_type": "markdown",
   "metadata": {},
   "source": [
    "- Tính đóng gói (Encapsulation): Các dữ liệu và phương thức có liên quan với nhau được đóng gói thành 1 lớp. Tức là mỗi lớp được xây dựng để thực hiện một nhóm chức năng đặc trưng của riêng lớp đó. Che giấu các thông tin của lớp đó đối với bên ngoài thể hiện ở public, protected, private đối với từng thuộc tính và phương thức.\n",
    "\n",
    "- TÍnh kế thừa (Inheritance): Nguyên tắc này cho phép xây dựng một lớp mới dựa trên 1 lớp đã khai báo từ trước. Lớp con có thể sử dụng lại các thuộc tính và phương thức của lớp cha mà không cần khai báo lại. Tùy thuộc vào từng ngôn ngữ cho phép việc kế thừa 1 hoặc nhiều class cha.\n",
    "\n",
    "- Tính trừu tượng (Abstraction): tổng quát hóa phương thức của đối tượng không quan tâm phương thức thực hiện như thế nào, được thể hiện bởi interface (có các tên phương thức nhưng ko có body của phương thức, khi class nào impliment interface thì thực hiện nó).\n",
    "\n",
    "- Tính đa hình (Polymorphism): Tính đa hình được thể hiện bởi một phương thức, hành động có thể thực hiện theo nhiều cách khác nhau. VD: chó mèo cùng là động vật nhưng khi thực hiện phương thức 'sủa' thì chó sủa 'gogo', mèo sủa 'méo mèo'. =)"
   ]
  },
  {
   "attachments": {},
   "cell_type": "markdown",
   "metadata": {},
   "source": [
    "# OOP trong python"
   ]
  },
  {
   "attachments": {},
   "cell_type": "markdown",
   "metadata": {},
   "source": [
    "Python là một ngôn ngữ hướng đối tượng. Vì vậy hầu hết mọi thứ trong Python đều là những đối tượng với những thuộc tính (properties) và phương thức (methods) và nó cũng tuân theo các nguyên lý cơ bản của OOP. Lập trình viên python có thể sử dụng cách lập trình hướng đối tượng cho chương trình của mình."
   ]
  },
  {
   "attachments": {},
   "cell_type": "markdown",
   "metadata": {},
   "source": [
    "## class - lớp"
   ]
  },
  {
   "attachments": {},
   "cell_type": "markdown",
   "metadata": {},
   "source": [
    "Lớp có thể hiểu như là một bản thiết kế sẵn cho một đối tượng. Ví dụ như một người là một lớp được định nghĩa sẵn những thuộc tính như màu tóc, chiều cao, cân nặng,... và các phương thức như chạy, nhảy, làm việc,... Khi có bản thiết kế này, đối tượng con người A được định nghĩa dựa trên class con người. Lúc này có thể định nghĩa con người A có tóc màu đen, cao 2m, nặng 100kg,....\n",
    "\n",
    "Trong python có rất nhiều lớp(class) được định nghĩa sẵn, như là int, list, dict,....\n",
    "\n",
    "Vd: các số nguyên a là đối tượng thuộc lớp int"
   ]
  },
  {
   "cell_type": "code",
   "execution_count": 2,
   "metadata": {},
   "outputs": [
    {
     "name": "stdout",
     "output_type": "stream",
     "text": [
      "<class 'int'>\n"
     ]
    }
   ],
   "source": [
    "a = int(4)\n",
    "print(type(a))"
   ]
  },
  {
   "attachments": {},
   "cell_type": "markdown",
   "metadata": {},
   "source": [
    "Ngoài ra, ltv có thể định nghĩa các lớp với cú pháp như sau:"
   ]
  },
  {
   "cell_type": "code",
   "execution_count": 10,
   "metadata": {},
   "outputs": [],
   "source": [
    "class my_class():\n",
    "    pass\n",
    "\n",
    "doi_tuong = my_class()"
   ]
  },
  {
   "attachments": {},
   "cell_type": "markdown",
   "metadata": {},
   "source": [
    "Trong một lớp, được khai báo các thuộc tính (attributes) và phương thức (methods). \n",
    "\n",
    "- Thuộc tính (attributes) chính là những thông tin, đặc điểm của đối tượng. VD: Con mèo (màu sắc, có đuôi, 2 tai, bốn chân, ...)\n",
    "\n",
    "- Phương thức (methods) là những thao tác, hành động mà đối tượng đó có thể thực hiện. VD: Con mèo (ăn, chạy nhảy, cắn, gào, rên, ....)"
   ]
  },
  {
   "attachments": {},
   "cell_type": "markdown",
   "metadata": {},
   "source": [
    "## Attributes - thuộc tính"
   ]
  },
  {
   "attachments": {},
   "cell_type": "markdown",
   "metadata": {},
   "source": [
    "Thuộc tính có thể hiểu là một biến trong class, thuộc tính mô tả các đặc tính của một đối tượng. Trong Python có một phương thức đặc biệt gọi là __ init__() dùng để khởi tạo giá trị cho các thuộc tính của một đối tượng."
   ]
  },
  {
   "cell_type": "code",
   "execution_count": 12,
   "metadata": {},
   "outputs": [
    {
     "name": "stdout",
     "output_type": "stream",
     "text": [
      "bug\n",
      "4\n",
      "husky\n",
      "4\n"
     ]
    }
   ],
   "source": [
    "class dog:\n",
    "    legs = 4\n",
    "    \n",
    "    def __init__(self, ten):\n",
    "        self.name = ten\n",
    "\n",
    "pug = dog(ten='pug')\n",
    "print(pug.name)\n",
    "print(pug.legs)\n",
    "\n",
    "husky = dog('husky')\n",
    "print(husky.name)\n",
    "print(husky.legs)"
   ]
  },
  {
   "attachments": {},
   "cell_type": "markdown",
   "metadata": {},
   "source": [
    "Phương thức __ init__() là phương thức khởi tạo của tất cả các lớp, mỗi khi tạo một đối tượng phương thức này sẽ tự động được gọi. Bất cứ phương thức nào của Python cũng đều phải có tham số đầu tiên là self rồi mới đến các tham số khác. self ám chỉ đối tượng đã được gọi đó. Chẳng hạn trong ví dụ trên khi chúng ta gọi pug = dog('bug') thì self chính là đối tượng pug"
   ]
  },
  {
   "attachments": {},
   "cell_type": "markdown",
   "metadata": {},
   "source": [
    "Ngoài ra còn có __ repr__(), __ str__(), __ del__(), __ format__(), __ bytes__(), __ hash__(), __ len__(), __ add__(), __ call__(), ... Nếu cầu hãy tự tìm hiểu thêm trên google bằng từ khóa magic methods trong python nhé"
   ]
  },
  {
   "cell_type": "code",
   "execution_count": 6,
   "metadata": {},
   "outputs": [
    {
     "name": "stdout",
     "output_type": "stream",
     "text": [
      "Đây là một con cờ hó có tên là alaska\n"
     ]
    }
   ],
   "source": [
    "class dog:\n",
    "    legs = 4\n",
    "    \n",
    "    def __init__(self, name):\n",
    "        self.name = name\n",
    "\n",
    "    def __str__(self) -> str:\n",
    "        return f'Đây là một con cờ hó có tên là {self.name}'\n",
    "    \n",
    "alaska = dog(name ='alaska')\n",
    "print(alaska)"
   ]
  },
  {
   "attachments": {},
   "cell_type": "markdown",
   "metadata": {},
   "source": [
    "## Methods - Phương thức"
   ]
  },
  {
   "attachments": {},
   "cell_type": "markdown",
   "metadata": {},
   "source": [
    "Cũng giống phương thức __ init__() ở trên, người dùng có thể tự định nghĩa các phương thức cho đối tượng thông qua lớp\n",
    "\n",
    "Phương thức có thể hiểu là các hành động của đối tượng, được biểu diễn bởi các function"
   ]
  },
  {
   "cell_type": "code",
   "execution_count": 7,
   "metadata": {},
   "outputs": [
    {
     "name": "stdout",
     "output_type": "stream",
     "text": [
      "bug\n",
      "4\n",
      "gau gau gau ...\n"
     ]
    }
   ],
   "source": [
    "class dog:\n",
    "    legs = 4\n",
    "    \n",
    "    def __init__(self, name):\n",
    "        self.name = name\n",
    "        \n",
    "    def sua(self):\n",
    "        print('gau gau gau ...')\n",
    "\n",
    "pug = dog('bug')\n",
    "print(pug.name)\n",
    "print(pug.legs)\n",
    "pug.sua()"
   ]
  },
  {
   "attachments": {},
   "cell_type": "markdown",
   "metadata": {},
   "source": [
    "## Tính đóng gói - Encapsulation\n",
    "\n",
    "Về bản chất trong python thì các khái niệm về private, protected, public không có, trong code chúng ta chỉ ám chỉ điều này cho việc truy cập cho đúng:\n",
    "\n",
    "với public thì có thể truy cập được ở mọi nơi, nên cách khai báo như hàm bình thường\n",
    "\n",
    "Với protected thì chỉ lớp con có thể truy cập được, cách khai báo bằng cách bắt đầu bằng một dấu gạch ngang \"_\", VD: _age. Chúng ta sẽ ngầm hiểu là ko sử dụng nếu không phải là class con\n",
    "\n",
    "Với private thì chỉ class đó có quyền truy cập, cách khai báo bằng cách bắt đầu bằng 2 dấu gạch ngang \"__\", VD: __age."
   ]
  },
  {
   "cell_type": "code",
   "execution_count": 15,
   "metadata": {},
   "outputs": [
    {
     "name": "stdout",
     "output_type": "stream",
     "text": [
      "Foo\n"
     ]
    }
   ],
   "source": [
    "class Foo:\n",
    "    __name = \"Foo\"\n",
    "\n",
    "    def __getName(self):\n",
    "        print(self.__name)\n",
    "\n",
    "    def get(self):\n",
    "        self.__getName()\n",
    "\n",
    "# print(Foo().__name) #error\n",
    "# Foo().__getName() #error\n",
    "Foo().get()"
   ]
  },
  {
   "attachments": {},
   "cell_type": "markdown",
   "metadata": {},
   "source": [
    "## Tính kế thừa - Inheritance"
   ]
  },
  {
   "attachments": {},
   "cell_type": "markdown",
   "metadata": {},
   "source": [
    "Tính kế thừa cho phép một lớp (class) có thể kế thừa các thuộc tính và phương thức từ các lớp khác đã được định nghĩa. Lớp đã có gọi là lớp cha, lớp mới phát sinh gọi là lớp con. Lớp con kế thừa tất cả thành phần của lớp cha, có thể mở rộng các thành phần kế thừa và bổ sung thêm các thành phần mới."
   ]
  },
  {
   "cell_type": "code",
   "execution_count": 20,
   "metadata": {},
   "outputs": [
    {
     "name": "stdout",
     "output_type": "stream",
     "text": [
      "Dog created\n",
      "Dog go go\n",
      "eat eat eat .....\n",
      "legs: 4 run run run .....\n",
      "weight 88\n"
     ]
    }
   ],
   "source": [
    "class Animal:\n",
    "   legs = '0'\n",
    "\n",
    "   def __init__(self):\n",
    "      pass\n",
    "\n",
    "   def whoAmI(self):\n",
    "      print (\"Animal\")\n",
    " \n",
    "   def eat(self):\n",
    "      print (\"Eating\")\n",
    "\n",
    "class Entity:\n",
    "   def __init__(self):\n",
    "      pass\n",
    "\n",
    "   def weight(self):\n",
    "      print ('weight 88')\n",
    " \n",
    "class Dog(Entity, Animal):\n",
    "   def __init__(self):\n",
    "      Animal.__init__(self)\n",
    "      Entity.__init__(self)\n",
    "      print (\"Dog created\")\n",
    "      self.legs = '4'\n",
    " \n",
    "   def whoAmI(self):\n",
    "      print (\"Dog go go\")\n",
    " \n",
    "   def eat(self):\n",
    "      print (\"eat eat eat .....\")\n",
    "\n",
    "   def run(self):\n",
    "      print (\"legs: \" + self.legs + \" run run run .....\")\n",
    " \n",
    " \n",
    "d = Dog()\n",
    "d.whoAmI()\n",
    "d.eat()\n",
    "d.run()\n",
    "d.weight()"
   ]
  },
  {
   "cell_type": "code",
   "execution_count": 3,
   "metadata": {},
   "outputs": [
    {
     "name": "stdout",
     "output_type": "stream",
     "text": [
      "Toyota Hilux đang dừng xe để nạp điện\n",
      "Toyota Hilux chạy bằng Điện\n",
      "Toyota Yaris đang chạy trên đường\n",
      "Toyota Vios đang nổ máy\n"
     ]
    }
   ],
   "source": [
    "# Lớp cha\n",
    "class Car:\n",
    "\n",
    "     # Constructor\n",
    "     def __init__(self, hangxe, tenxe, mausac):\n",
    "        # Lớp Car có 3 thuộc tính: tenxe, mausac, hang xe\n",
    "        self.hangxe = hangxe\n",
    "        self.tenxe = tenxe\n",
    "        self.mausac = mausac\n",
    "\n",
    "     # phương thức\n",
    "     def chayxe(self):\n",
    "        print (\"{} đang chạy trên đường\".format(self.tenxe))\n",
    "\n",
    "     def dungxe(self, mucdich):\n",
    "        print (\"{} đang dừng xe để {}\".format(self.tenxe, mucdich))\n",
    "\n",
    "# Lớp Toyota mở rộng từ lớp Car.\n",
    "class Toyota(Car):\n",
    "\n",
    "     def __init__(self, hangxe, tenxe, mausac, nguyenlieu):\n",
    "        # Gọi tới constructor của lớp cha (Car) \n",
    "        # để gán giá trị vào thuộc tính của lớp cha.\n",
    "        super().__init__(hangxe, tenxe, mausac)\n",
    "\n",
    "        self.nguyenlieu = nguyenlieu\n",
    "\n",
    "     # Kế thừa phương thức cũ\n",
    "    #  def chayxe(self):\n",
    "    #     print (\"{} đang chạy trên đường\".format(self.tenxe))\n",
    "\n",
    "     # Ghi đè (override) phương thức cùng tên của lớp cha.\n",
    "     def dungxe(self, mucdich):\n",
    "        print (f\"{self.tenxe} đang dừng xe để {mucdich}\")\n",
    "        print (f\"{self.tenxe} chạy bằng {self.nguyenlieu}\")\n",
    "\n",
    "     # Bổ sung thêm thành phần mới \n",
    "     def nomay(self):\n",
    "        print (f\"{self.tenxe} đang nổ máy\")\n",
    "\n",
    "toyota1 = Toyota(\"Toyota\", \"Toyota Hilux\", \"Đỏ\", \"Điện\")\n",
    "toyota2 = Toyota(\"Toyota\", \"Toyota Yaris\", \"Vàng\", \"Deisel\")\n",
    "toyota3 = Toyota(\"Toyota\", \"Toyota Vios\", \"Xanh\", \"Gas\")\n",
    "\n",
    "toyota1.dungxe(\"nạp điện\")\n",
    "toyota2.chayxe()\n",
    "toyota3.nomay()"
   ]
  },
  {
   "attachments": {},
   "cell_type": "markdown",
   "metadata": {},
   "source": [
    "## Đa hình - Polymorphism"
   ]
  },
  {
   "attachments": {},
   "cell_type": "markdown",
   "metadata": {},
   "source": [
    "Tính đa hình là khái niệm mà hai hoặc nhiều lớp có những phương thức giống nhau nhưng có thể thực thi theo những cách thức khác nhau.\n",
    "\n",
    "Giả sử, chúng ta cần tô màu một hình khối, có rất nhiều lựa chọn cho hình của bạn như hình chữ nhật, hình vuông, hình tròn. Tuy nhiên, bạn có thể sử dụng cùng một phương pháp để tô màu bất kỳ hình dạng nào."
   ]
  },
  {
   "cell_type": "code",
   "execution_count": 1,
   "metadata": {},
   "outputs": [
    {
     "name": "stdout",
     "output_type": "stream",
     "text": [
      "Toyota nổ máy bằng hộp số tự động\n",
      "Porsche nổ máy bằng hộp số cơ\n"
     ]
    }
   ],
   "source": [
    "class Toyota:\n",
    "\n",
    "     def dungxe(self):\n",
    "        print(\"Toyota dừng xe để nạp điện\")\n",
    "\n",
    "     def nomay(self):\n",
    "        print(\"Toyota nổ máy bằng hộp số tự động\")\n",
    "\n",
    "class Porsche:\n",
    "\n",
    "     def dungxe(self):\n",
    "        print(\"Porsche dừng xe để bơm xăng\")\n",
    "\n",
    "     def nomay(self):\n",
    "        print(\"Porsche nổ máy bằng hộp số cơ\")\n",
    "\n",
    "# instantiate objects\n",
    "toyota = Toyota()\n",
    "porsche = Porsche()\n",
    "\n",
    "toyota.nomay()\n",
    "porsche.nomay()"
   ]
  },
  {
   "cell_type": "code",
   "execution_count": 10,
   "metadata": {},
   "outputs": [
    {
     "name": "stdout",
     "output_type": "stream",
     "text": [
      "Hieu\n"
     ]
    }
   ],
   "source": [
    "class con_nguoi():\n",
    "    def __init__(self, ten, tuoi):\n",
    "        self.name = ten\n",
    "        self.age = tuoi\n",
    "# Khi mà mình khai báo class, class nó là 1 cái trừu tượng\n",
    "# toi => object\n",
    "# con_nguoi = > class\n",
    "toi = con_nguoi('Hieu', 23) # toi = self\n",
    "print(toi.name)\n",
    "chi = con_nguoi(ten = \"Trinh\", tuoi = 20) # chi = self\n"
   ]
  }
 ],
 "metadata": {
  "kernelspec": {
   "display_name": "base",
   "language": "python",
   "name": "python3"
  },
  "language_info": {
   "codemirror_mode": {
    "name": "ipython",
    "version": 3
   },
   "file_extension": ".py",
   "mimetype": "text/x-python",
   "name": "python",
   "nbconvert_exporter": "python",
   "pygments_lexer": "ipython3",
   "version": "3.8.3"
  },
  "orig_nbformat": 4
 },
 "nbformat": 4,
 "nbformat_minor": 2
}
