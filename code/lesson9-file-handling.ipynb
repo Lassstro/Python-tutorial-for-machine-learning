{
 "cells": [
  {
   "cell_type": "markdown",
   "metadata": {},
   "source": [
    "<h1 style=\"text-align: center;\">Lesson 9: File Handling</h1>"
   ]
  },
  {
   "attachments": {},
   "cell_type": "markdown",
   "metadata": {},
   "source": [
    "Trong việc sử dụng dữ liệu, việc thao tác với file bắt buộc. Một số thao tác cơ bản như load, thêm, sửa, xóa,... là những cái k thể thiếu nếu muốn làm việc với dữ liệu\n",
    "\n",
    "Dữ liệu thường được lưu trữ dưới định dạng như csv, exel, text, word, sql,.."
   ]
  }
 ],
 "metadata": {
  "kernelspec": {
   "display_name": "base",
   "language": "python",
   "name": "python3"
  },
  "language_info": {
   "codemirror_mode": {
    "name": "ipython",
    "version": 3
   },
   "file_extension": ".py",
   "mimetype": "text/x-python",
   "name": "python",
   "nbconvert_exporter": "python",
   "pygments_lexer": "ipython3",
   "version": "3.8.3"
  },
  "orig_nbformat": 4
 },
 "nbformat": 4,
 "nbformat_minor": 2
}
