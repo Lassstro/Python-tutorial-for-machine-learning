{
 "cells": [
  {
   "cell_type": "markdown",
   "metadata": {},
   "source": [
    "<h1 style=\"text-align: center;\">Lesson 6: Function</h1>"
   ]
  },
  {
   "attachments": {},
   "cell_type": "markdown",
   "metadata": {},
   "source": [
    "Hàm (function) được định nghĩa là  một nhóm các lệnh có liên quan đến nhau được dùng để thực hiện một tác vụ, nhiệm vụ cụ thể nào đó.\n",
    "\n",
    "- Nó dùng để thực hiện một tác vụ lặp đi lặp lại, giúp tiết kiệm thời gian code\n",
    "\n",
    "- Nó giúp chia nhỏ chương trình thành các phần giúp thuận tiện cho sử dụng, phát triển, sửa lỗi"
   ]
  },
  {
   "attachments": {},
   "cell_type": "markdown",
   "metadata": {},
   "source": [
    "## Cú pháp của hàm"
   ]
  },
  {
   "cell_type": "code",
   "execution_count": 82,
   "metadata": {},
   "outputs": [],
   "source": [
    "def ten_ham(tham_so): #truyền vào Các tham số\n",
    "    \"\"\"Chuỗi văn bản để mô tả cho hàm (docstring)\"\"\"\n",
    "    # Khối lệnh bên trong hàm\n",
    "    print(tham_so)\n",
    "    return 'hello'"
   ]
  },
  {
   "cell_type": "code",
   "execution_count": 28,
   "metadata": {},
   "outputs": [
    {
     "name": "stdout",
     "output_type": "stream",
     "text": [
      "xin chào\n",
      "hello\n",
      "Chuỗi văn bản để mô tả cho hàm (docstring)\n"
     ]
    }
   ],
   "source": [
    "# Lệnh ngoài hàm hoặc lệnh gọi hàm\n",
    "doi_so = \"xin chào\"\n",
    "result = ten_ham(doi_so)\n",
    "print(result)\n",
    "doc_string = ten_ham.__doc__\n",
    "print(doc_string)"
   ]
  },
  {
   "cell_type": "code",
   "execution_count": 29,
   "metadata": {},
   "outputs": [
    {
     "ename": "TypeError",
     "evalue": "ten_ham() missing 1 required positional argument: 'tham_so'",
     "output_type": "error",
     "traceback": [
      "\u001b[1;31m---------------------------------------------------------------------------\u001b[0m",
      "\u001b[1;31mTypeError\u001b[0m                                 Traceback (most recent call last)",
      "\u001b[1;32m<ipython-input-29-5c7ccd3c4abf>\u001b[0m in \u001b[0;36m<module>\u001b[1;34m\u001b[0m\n\u001b[1;32m----> 1\u001b[1;33m \u001b[0mten_ham\u001b[0m\u001b[1;33m(\u001b[0m\u001b[1;33m)\u001b[0m\u001b[1;33m\u001b[0m\u001b[1;33m\u001b[0m\u001b[0m\n\u001b[0m",
      "\u001b[1;31mTypeError\u001b[0m: ten_ham() missing 1 required positional argument: 'tham_so'"
     ]
    }
   ],
   "source": [
    "ten_ham()"
   ]
  },
  {
   "cell_type": "code",
   "execution_count": 30,
   "metadata": {},
   "outputs": [
    {
     "ename": "TypeError",
     "evalue": "ten_ham() takes 1 positional argument but 2 were given",
     "output_type": "error",
     "traceback": [
      "\u001b[1;31m---------------------------------------------------------------------------\u001b[0m",
      "\u001b[1;31mTypeError\u001b[0m                                 Traceback (most recent call last)",
      "\u001b[1;32m<ipython-input-30-00eb5990e6e2>\u001b[0m in \u001b[0;36m<module>\u001b[1;34m\u001b[0m\n\u001b[1;32m----> 1\u001b[1;33m \u001b[0mten_ham\u001b[0m\u001b[1;33m(\u001b[0m\u001b[0mdoi_so\u001b[0m\u001b[1;33m,\u001b[0m \u001b[0mdoi_so\u001b[0m\u001b[1;33m)\u001b[0m\u001b[1;33m\u001b[0m\u001b[1;33m\u001b[0m\u001b[0m\n\u001b[0m",
      "\u001b[1;31mTypeError\u001b[0m: ten_ham() takes 1 positional argument but 2 were given"
     ]
    }
   ],
   "source": [
    "ten_ham(doi_so, doi_so)"
   ]
  },
  {
   "attachments": {},
   "cell_type": "markdown",
   "metadata": {},
   "source": [
    "Về cơ bản, một định nghĩa hàm Python sẽ bao gồm các thành phần sau:\n",
    "\n",
    "- Từ khóa def: Đánh dáu sự bắt đầu của tiêu đề hàm.\n",
    "- ten_ham: Là định danh duy nhất dành cho hàm. Việc đặt tên hàm phải tuân thủ theo quy tắc viết tên và định danh trong Python.\n",
    "- Các tham số/đối số: Chúng ta truyền giá trị cho hàm thông qua các tham số này. Chúng là tùy chọn.\n",
    "- Dấu hai chấm (:): Đánh dấu sự kết thúc của tiêu đề hàm.\n",
    "- docstring: Chuỗi văn bản tùy chọn để mô tả chức năng của hàm.\n",
    "- Các câu lệnh: Một hoặc nhiều lệnh Python hợp lệ tạo thành khối lệnh. Các lệnh này phải có cùng một mức thụt đầu dòng (thường là 4 khoảng trắng).\n",
    "- Lệnh return: Lệnh này là tùy chọn, dùng khi cần trả về giá trị từ hàm\n"
   ]
  },
  {
   "attachments": {},
   "cell_type": "markdown",
   "metadata": {},
   "source": [
    "Một số lưu ý cơ bản:\n",
    "\n",
    "- Để chương trình gọn gàng và dễ hiểu, hãy tích cực trong việc sử dụng hàm dù là những công việc nhỏ và dường như có vẻ mất thời gian hơn lúc code. Tuy nhiên nó tốt cho tư duy logic, và quá trình sửa lỗi và phát triển sau này\n",
    "\n",
    "- Đặt tên hàm đúng với chức năng của nó như với đặt tên biến\n",
    "\n",
    "- Nếu có thể và cảm thấy cần thiết, hãy bỏ chút thời gian viết phần docstring cho hàm để thuận tiến cho việc phát triển nó\n",
    "\n"
   ]
  },
  {
   "attachments": {},
   "cell_type": "markdown",
   "metadata": {},
   "source": [
    "## Cách hoạt động của hàm"
   ]
  },
  {
   "attachments": {
    "image.png": {
     "image/png": "[encoded data removed]"
    }
   },
   "cell_type": "markdown",
   "metadata": {},
   "source": [
    "![image.png](attachment:image.png)\n",
    "\n",
    "Hàm chỉ được dùng khi được gọi đến. Khi gặp kí hiệu def (định nghĩa hàm), chương trình sẽ bỏ qua đoạn code trong hàm và tiếp tục chạy\n",
    "\n",
    "Khi hàm được gọi, chương trình sẽ quay lại và chạy hàm đấy\n",
    "\n",
    "Hiểu được như vậy, chúng ta có thể hiểu bản chất của hàm chính là ta tách 1 phần chương trình chính ra thành một khối riêng để tiện xử lí"
   ]
  },
  {
   "attachments": {},
   "cell_type": "markdown",
   "metadata": {},
   "source": [
    "## Một số ví dụ"
   ]
  },
  {
   "cell_type": "code",
   "execution_count": 32,
   "metadata": {},
   "outputs": [
    {
     "name": "stdout",
     "output_type": "stream",
     "text": [
      "13\n"
     ]
    }
   ],
   "source": [
    "a = 7\n",
    "b = 6\n",
    "tong = a + b\n",
    "print(tong)"
   ]
  },
  {
   "cell_type": "code",
   "execution_count": 77,
   "metadata": {},
   "outputs": [],
   "source": [
    "def total(a, b):\n",
    "    return a + b"
   ]
  },
  {
   "cell_type": "code",
   "execution_count": 34,
   "metadata": {},
   "outputs": [
    {
     "name": "stdout",
     "output_type": "stream",
     "text": [
      "11\n"
     ]
    }
   ],
   "source": [
    "tong = total(5,6)\n",
    "print(tong)"
   ]
  },
  {
   "cell_type": "code",
   "execution_count": 39,
   "metadata": {},
   "outputs": [
    {
     "name": "stdout",
     "output_type": "stream",
     "text": [
      "13\n"
     ]
    }
   ],
   "source": [
    "tong = total(5,8)\n",
    "print(tong)"
   ]
  },
  {
   "cell_type": "code",
   "execution_count": 57,
   "metadata": {},
   "outputs": [
    {
     "name": "stdout",
     "output_type": "stream",
     "text": [
      "lá\n"
     ]
    }
   ],
   "source": [
    "import random\n",
    "\n",
    "def random_computer(items):\n",
    "    '''\n",
    "    Hàm lấy ra một phần tử ngẫu nhiên trong một danh sách\n",
    "    Đầu vào: một danh sách các phần tử\n",
    "    Đầu ra: phần tử ngẫu nhiên được lấy ra từ danh sách\n",
    "    '''\n",
    "    index_random = random.randint(0, len(items) - 1)\n",
    "    for index, item in enumerate(items):\n",
    "        if index == index_random:\n",
    "            return item\n",
    "\n",
    "# Test function\n",
    "option_list = ['đấm', 'lá', 'kéo']\n",
    "computer = random_computer(option_list)\n",
    "print(computer)"
   ]
  },
  {
   "cell_type": "code",
   "execution_count": 83,
   "metadata": {},
   "outputs": [],
   "source": [
    "def check_result(player, computer):\n",
    "    '''\n",
    "    Hàm đưa ra kết quả\n",
    "    '''\n",
    "    if player == computer:\n",
    "        return 'hòa'\n",
    "    else:\n",
    "        if player == \"đấm\":\n",
    "            if computer == 'lá':\n",
    "                return 'thua'\n",
    "            else:\n",
    "                return 'thắng'\n",
    "        elif player == \"lá\":\n",
    "            if computer == 'đấm':\n",
    "                return 'thua'\n",
    "            else:\n",
    "                return 'thắng'\n",
    "        elif player == \"kéo\":\n",
    "            if computer == 'đấm':\n",
    "                return 'thua'\n",
    "            else:\n",
    "                return 'thắng'\n"
   ]
  },
  {
   "cell_type": "code",
   "execution_count": 91,
   "metadata": {},
   "outputs": [
    {
     "name": "stdout",
     "output_type": "stream",
     "text": [
      "None\n"
     ]
    }
   ],
   "source": [
    "option_list = ['đấm', 'lá', 'kéo']\n",
    "player = 'đấm'\n",
    "computer = random_computer(option_list)\n",
    "result = check_result(player, computer)\n",
    "print(result)"
   ]
  },
  {
   "cell_type": "code",
   "execution_count": 76,
   "metadata": {},
   "outputs": [
    {
     "name": "stdout",
     "output_type": "stream",
     "text": [
      "{'thắng': 15, 'hòa': 23, 'thua': 12}\n"
     ]
    }
   ],
   "source": [
    "results = []\n",
    "for i in range(50):\n",
    "    player = 'đấm'\n",
    "    option_list = ['đấm', 'lá', 'kéo']\n",
    "    computer = random_computer(option_list)\n",
    "    result = check_result(player, computer)\n",
    "    results.append(result)\n",
    "\n",
    "freq_items = {}\n",
    "\n",
    "for result in results:\n",
    "    if result in freq_items:\n",
    "        freq_items[result] += 1\n",
    "    else:\n",
    "        freq_items[result] = 1\n",
    "\n",
    "print(freq_items)"
   ]
  }
 ],
 "metadata": {
  "kernelspec": {
   "display_name": "base",
   "language": "python",
   "name": "python3"
  },
  "language_info": {
   "codemirror_mode": {
    "name": "ipython",
    "version": 3
   },
   "file_extension": ".py",
   "mimetype": "text/x-python",
   "name": "python",
   "nbconvert_exporter": "python",
   "pygments_lexer": "ipython3",
   "version": "3.8.3"
  },
  "orig_nbformat": 4
 },
 "nbformat": 4,
 "nbformat_minor": 2
}
