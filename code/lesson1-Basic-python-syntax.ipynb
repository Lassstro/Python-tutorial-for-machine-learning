{
 "cells": [
  {
   "attachments": {},
   "cell_type": "markdown",
   "metadata": {},
   "source": [
    "# Lession 1: Basic Python Syntax"
   ]
  },
  {
   "attachments": {},
   "cell_type": "markdown",
   "metadata": {},
   "source": [
    "Bài đầu tiên sẽ giới thiệu về ngôn ngữ python và chương trình huyền thoại Hello world cho python\n",
    "\n",
    "Nội dung chính:\n",
    "\n",
    "I. Viết chương trình hello world\n",
    "\n",
    "II. Python syntax\n",
    "\n",
    "    1. Thụt lề\n",
    "\n",
    "    2. Chú thích\n",
    "\n",
    "    3. Biến cục bộ"
   ]
  },
  {
   "attachments": {},
   "cell_type": "markdown",
   "metadata": {},
   "source": [
    "# I. Hello world\n",
    "\n",
    "Thực thi bằng 1 cái trình thực thi có tên là cpython (nó có thể coi là kết hợp của trình thông dịch (interpreter) và biên dịch (compiler), vì nó biên dịch mã Python thành bytecode trước khi thông dịch nó), nó được viết bằng C bởi ông Guido van Rossum\n",
    "\n",
    "Dịch từng dòng lệnh sang ngôn ngữ máy ( thực hiện tuần tự), dòng lệnh được dịch sang bytecode, sau đó bytecode tiếp tục được thực thi bởi VM\n",
    "\n",
    "=> lỗi ở đâu thì dừng chương trình ở đấy"
   ]
  },
  {
   "cell_type": "code",
   "execution_count": 1,
   "metadata": {},
   "outputs": [
    {
     "name": "stdout",
     "output_type": "stream",
     "text": [
      "hello world!\n",
      "hello\n"
     ]
    }
   ],
   "source": [
    "print('hello world!')\n",
    "print(\"hello\")"
   ]
  },
  {
   "cell_type": "code",
   "execution_count": 11,
   "metadata": {},
   "outputs": [
    {
     "name": "stdout",
     "output_type": "stream",
     "text": [
      "chuỗi 1\n",
      "chuỗi 2\n",
      "\n",
      "chuỗi 3\n"
     ]
    }
   ],
   "source": [
    "print('chuỗi 1\\nchuỗi 2', end = \"\\n\\n\")\n",
    "print('chuỗi 3')"
   ]
  },
  {
   "attachments": {},
   "cell_type": "markdown",
   "metadata": {},
   "source": [
    "# II. Python Syntax"
   ]
  },
  {
   "attachments": {},
   "cell_type": "markdown",
   "metadata": {},
   "source": [
    "Giống như các ngôn ngữ tự nhiên, mỗi ngôn ngữ đều quy định những quy tắc trong cú pháp, VD như kết thúc câu bằng dấu chấm, kết thúc ý bằng dấu phẩy, cảm thán bằng dấu !, cuối câu hỏi có dấu ?,.v.v... Ngôn ngữ lập trình cũng thế, nó có những quy tắc cú pháp khác nhau. Với python, một số quy tắc cơ bản như sau:"
   ]
  },
  {
   "attachments": {},
   "cell_type": "markdown",
   "metadata": {},
   "source": [
    "## 1. Indentation"
   ]
  },
  {
   "attachments": {},
   "cell_type": "markdown",
   "metadata": {},
   "source": [
    "- Thụt đầu dòng là khoảng trắng đầu mỗi dòng\n",
    "- Trong một số ngôn ngữ khác, nó chỉ dùng để format cho dễ đọc\n",
    "- Còn trong python, nó để biểu thị một khối code (code block)"
   ]
  },
  {
   "cell_type": "code",
   "execution_count": 18,
   "metadata": {},
   "outputs": [
    {
     "name": "stdout",
     "output_type": "stream",
     "text": [
      "hello\n",
      "hello 2\n",
      "Đúng!!!\n",
      "aaaa\n",
      "here is the block code\n"
     ]
    }
   ],
   "source": [
    "print('hello');print('hello 2')\n",
    "\n",
    "if (True):{print('Đúng!!!'),print('aaaa')}\n",
    "\n",
    "if (True):\n",
    "    if (True):\n",
    "        print('here', 'is', 'the', 'block', 'code')"
   ]
  },
  {
   "attachments": {},
   "cell_type": "markdown",
   "metadata": {},
   "source": [
    "Phím tắt trong VS code: Ctrl + ] để thụt dòng sang phải\n",
    "\n",
    "                        Ctrl + [ để thụt dòng sang trái"
   ]
  },
  {
   "attachments": {},
   "cell_type": "markdown",
   "metadata": {},
   "source": [
    "## 2. Comments"
   ]
  },
  {
   "attachments": {},
   "cell_type": "markdown",
   "metadata": {},
   "source": [
    "Chú thích giúp code dễ đọc, dễ hiểu. Trong python, dùng dấu # để biển thị chú thích trên 1 dòng, dấu nháy 3 để chú thích nhiều dòng"
   ]
  },
  {
   "cell_type": "code",
   "execution_count": 19,
   "metadata": {},
   "outputs": [
    {
     "name": "stdout",
     "output_type": "stream",
     "text": [
      "ahihi\n"
     ]
    }
   ],
   "source": [
    "'''\n",
    "Bài này dùng để giải thích về comments\n",
    "Thêm 1 dòng nữa cũng chả sao\n",
    "'''\n",
    "\n",
    "# Đây là đoạn code để print()\n",
    "print('ahihi') # Dòng này để print() ra chữ ahihi\n",
    "print('ahaiah')\n"
   ]
  },
  {
   "attachments": {},
   "cell_type": "markdown",
   "metadata": {},
   "source": [
    "Phím tắt trong vs code: Ctrl + /"
   ]
  },
  {
   "attachments": {},
   "cell_type": "markdown",
   "metadata": {},
   "source": [
    "## 3. Variables\n",
    "\n",
    "Biến là cái để chứa giá trị dữ liệu. Nó trỏ đến vùng nhớ bất kì trong bộ nhớ và ghi dữ liệu vào đấy. Khi lấy ra nó chỉ cần trỏ đến địa chỉ ấy và lấy giá trị ra.\n",
    "\n",
    "Một biến gồm những thành phần sau:\n",
    "- Tên\n",
    "- Giá trị\n",
    "- Biến cục bộ và biến toàn cục"
   ]
  },
  {
   "attachments": {},
   "cell_type": "markdown",
   "metadata": {},
   "source": [
    "### 3.1. Tên biến"
   ]
  },
  {
   "attachments": {
    "image.png": {
     "image/png": "[encoded data removed]"
    }
   },
   "cell_type": "markdown",
   "metadata": {},
   "source": [
    "Quy tắc đặt tên biến:\n",
    "- Tên biến phải bắt đầu bằng chữ cái hoặc ký tự gạch dưới\n",
    "- Tên biến không được bắt đầu bằng số\n",
    "- Tên biến chỉ được chứa các ký tự chữ và số và dấu gạch dưới (A-z, 0-9, và _ )\n",
    "- Tên biến có phân biệt chữ hoa chữ thường (age, Age và AGE là ba biến khác nhau)\n",
    "\n",
    "Tên biến không trùng với một số cái mặc định trong python như:\n",
    "\n",
    "![image.png](attachment:image.png)\n",
    "\n"
   ]
  },
  {
   "cell_type": "code",
   "execution_count": 29,
   "metadata": {},
   "outputs": [],
   "source": [
    "# tên biến đúng\n",
    "myname = \"John\"\n",
    "my_name = \"John\"\n",
    "_my_name = \"John\"\n",
    "myName = \"John\"\n",
    "MYName = \"John\"\n",
    "myname2 = \"John\""
   ]
  },
  {
   "cell_type": "code",
   "execution_count": 46,
   "metadata": {},
   "outputs": [
    {
     "ename": "SyntaxError",
     "evalue": "invalid syntax (<ipython-input-46-14bdd6e64d97>, line 2)",
     "output_type": "error",
     "traceback": [
      "\u001b[1;36m  File \u001b[1;32m\"<ipython-input-46-14bdd6e64d97>\"\u001b[1;36m, line \u001b[1;32m2\u001b[0m\n\u001b[1;33m    2myvar = \"John\" # số ở đầu\u001b[0m\n\u001b[1;37m     ^\u001b[0m\n\u001b[1;31mSyntaxError\u001b[0m\u001b[1;31m:\u001b[0m invalid syntax\n"
     ]
    }
   ],
   "source": [
    "# Một số ví dụ tên biến sai\n",
    "2myvar = \"John\" # số ở đầu\n",
    "my-var = \"John\" # có dấu -\n",
    "my var = \"John\" # có nút cách\n",
    "and = 2 # trùng với từ khóa and"
   ]
  },
  {
   "attachments": {},
   "cell_type": "markdown",
   "metadata": {},
   "source": [
    "Kinh nghiệm khi đặt tên biến\n",
    "- Đặt tên biến phải thể hiện được giá trị mà nó lưu trữ, tránh các biến đặt vội như x, y, a, b, temp,... Nó sẽ hình thành thói quan sau này, giúp code clean và dễ đọc, dễ debug hơn.\n",
    "- Đặt tên đúng, đủ, ngắn gọn, tránh các từ như data, info, list, ...\n",
    "- Nên đặt tên biến bằng tiếng anh, có ý nghĩa rõ ràng"
   ]
  },
  {
   "attachments": {},
   "cell_type": "markdown",
   "metadata": {},
   "source": [
    "### 3.2. Giá trị biến"
   ]
  },
  {
   "cell_type": "code",
   "execution_count": 26,
   "metadata": {},
   "outputs": [],
   "source": [
    "# ví dụ khai báo biến\n",
    "x = 1.52\n",
    "age = 10\n",
    "name = 'hieu'\n",
    "a, b, c = 5, 4, 6\n",
    "m = n = 4"
   ]
  },
  {
   "attachments": {},
   "cell_type": "markdown",
   "metadata": {},
   "source": [
    "Đầu ra biến\n",
    "\n",
    "Dùng hàm print() để in giá trị ra"
   ]
  },
  {
   "cell_type": "code",
   "execution_count": 24,
   "metadata": {},
   "outputs": [
    {
     "name": "stdout",
     "output_type": "stream",
     "text": [
      "Python is awesome\n",
      "Pythonisawesome\n"
     ]
    }
   ],
   "source": [
    "x = \"Python\"\n",
    "y = \"is\"\n",
    "z = \"awesome\"\n",
    "print(x, y, z)\n",
    "print(x + y + z)"
   ]
  },
  {
   "cell_type": "code",
   "execution_count": 28,
   "metadata": {},
   "outputs": [
    {
     "name": "stdout",
     "output_type": "stream",
     "text": [
      "python python python python python python python python\n"
     ]
    }
   ],
   "source": [
    "# in ra 10 chữ python\n",
    "a = 'python'\n",
    "print(a,a,a,a,a,a,a,a)"
   ]
  },
  {
   "attachments": {},
   "cell_type": "markdown",
   "metadata": {},
   "source": [
    "### 3.3. Local và global variable\n",
    "- Biến cục bộ (local variable) là biến được khai báo trong hàm và chỉ được sủ dụng trong hàm\n",
    "- Biến toàn cục (global variable) là biến được khai báo ở ngoài và được dùng trong cả ngoài và trong hàm."
   ]
  },
  {
   "cell_type": "code",
   "execution_count": 31,
   "metadata": {},
   "outputs": [
    {
     "name": "stdout",
     "output_type": "stream",
     "text": [
      "1\n",
      "2\n"
     ]
    }
   ],
   "source": [
    "x = 1\n",
    "print(x)\n",
    "x = 2\n",
    "print(x)"
   ]
  },
  {
   "cell_type": "code",
   "execution_count": 43,
   "metadata": {},
   "outputs": [
    {
     "name": "stdout",
     "output_type": "stream",
     "text": [
      "local variable\n",
      "global\n"
     ]
    }
   ],
   "source": [
    "global_var = 'global'\n",
    "\n",
    "# Định nghĩa 1 cái hàm\n",
    "def myfunc():\n",
    "  hh = \"local variable\"\n",
    "  print(hh)\n",
    "  print(global_var)\n",
    "\n",
    "myfunc() # gọi hàm"
   ]
  },
  {
   "cell_type": "code",
   "execution_count": 37,
   "metadata": {},
   "outputs": [
    {
     "name": "stdout",
     "output_type": "stream",
     "text": [
      "global variable\n"
     ]
    }
   ],
   "source": [
    "print(x)"
   ]
  },
  {
   "attachments": {},
   "cell_type": "markdown",
   "metadata": {},
   "source": [
    "Thông thường, khi bạn tạo một biến bên trong một hàm, biến đó là cục bộ và chỉ có thể được sử dụng bên trong hàm đó.\n",
    "\n",
    "Để tạo một biến toàn cục bên trong một hàm, bạn có thể sử dụng từ khóa toàn cục."
   ]
  },
  {
   "cell_type": "code",
   "execution_count": 45,
   "metadata": {},
   "outputs": [
    {
     "name": "stdout",
     "output_type": "stream",
     "text": [
      "Python is fantastic\n"
     ]
    }
   ],
   "source": [
    "x = \"awesome\"\n",
    "\n",
    "def myfunc():\n",
    "  global x\n",
    "  x = \"fantastic\"\n",
    "\n",
    "myfunc() # thực thi hàm myfunc()\n",
    "\n",
    "print(\"Python is \" + x)"
   ]
  }
 ],
 "metadata": {
  "kernelspec": {
   "display_name": "Python 3.8.6 64-bit",
   "language": "python",
   "name": "python3"
  },
  "language_info": {
   "codemirror_mode": {
    "name": "ipython",
    "version": 3
   },
   "file_extension": ".py",
   "mimetype": "text/x-python",
   "name": "python",
   "nbconvert_exporter": "python",
   "pygments_lexer": "ipython3",
   "version": "3.8.3"
  },
  "orig_nbformat": 4,
  "vscode": {
   "interpreter": {
    "hash": "a4868653bb6f8972e87e4c446ab8a445a15b25dedb8594cc74c480f8152ea86a"
   }
  }
 },
 "nbformat": 4,
 "nbformat_minor": 2
}
