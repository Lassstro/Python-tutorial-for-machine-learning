{
 "cells": [
  {
   "attachments": {},
   "cell_type": "markdown",
   "metadata": {},
   "source": [
    "# Câu 1: Viết trò chơi tài xỉu\n",
    "- Khởi tạo số tiền của người chơi\n",
    "- Yêu cầu người dùng nhập vào \"tài\" hoặc \"xỉu\"\n",
    "- Yêu cầu người dùng nhập số tiền cược cho phiên cược\n",
    "- Chọn ngẫu nhiên giá trị 3 con xúc xắc, mỗi con có giá trị từ 1->6. Nếu >10 là \"tài\", ngược lại là \"xỉu\"\n",
    "- Thông báo ra kết quả thắng hoặc thua. Đặt lại giá trị tiền đúng với kết quả\n",
    "- Lặp lại phiên chơi khi người chơi nhập \"tiếp\" và dừng chơi trình khi \"dừng\""
   ]
  },
  {
   "attachments": {},
   "cell_type": "markdown",
   "metadata": {},
   "source": [
    "## Xác định cách giải quyết bài toán\n",
    "\n",
    "- Để giải quyết bài toán ra cần xác định rõ mục tiêu, xác định những keyword\n",
    "- Tiếp ta nên chia nhỏ bài toán ra thành những công đoạn, những vấn đề nhỏ hơn để giải quyết lần lượt\n",
    "- Sau đó là lắp ghép các phần, clean code và tiếp tục phát triển nếu có thể"
   ]
  },
  {
   "attachments": {},
   "cell_type": "markdown",
   "metadata": {},
   "source": [
    "## Bước 1: Xác định mục tiêu, keyword\n",
    "\n",
    "Mục tiêu: Tạo ra một chương trình trò chơi tài xỉu\n",
    "\n",
    "Phân tích: \n",
    "- Để tạo ra 1 cái game, cần có thắng có thua. Ta xét TH người chơi thắng, thua để làm mục tiêu. Cái game tài xỉu này đơn giản là nhị phân 50 50. Tức là con chọn đúng tài hoặc xỉu là thắng 1 khoản bằng với số tiền mình cược, ngược lại là thua và mất tiền.\n",
    "- Như vậy ta cần cho người chơi chọn Tài hoặc Xỉu và số tiền cược. Còn máy sẽ random ra 3 con xúc xắc, sau đó tính tổng nếu >10 là Tài, nhỏ hơn hoặc bằng 10 là xỉu.\n",
    "- Sau đó ta chỉ cần kiểm tra điều kiện, giữa người chơi và nhà cái để cho ra kết quả\n",
    "- Như vậy là hoàn thành 1 lượt chơi, để chơi tiếp ta sẽ cho nó lặp lại y hệt như thế. Vậy là xong"
   ]
  },
  {
   "attachments": {},
   "cell_type": "markdown",
   "metadata": {},
   "source": [
    "## Bước 2: Chia ra từng phần và giải quyết"
   ]
  },
  {
   "attachments": {},
   "cell_type": "markdown",
   "metadata": {},
   "source": [
    "1. Đầu tiên ta cần xây dựng một phần để máy tính random ra Tài hoặc xỉu"
   ]
  },
  {
   "cell_type": "code",
   "execution_count": 16,
   "metadata": {},
   "outputs": [
    {
     "name": "stdout",
     "output_type": "stream",
     "text": [
      "2 3 6 11 tài\n"
     ]
    }
   ],
   "source": [
    "import random\n",
    "\n",
    "# Chọn ngẫu nhiên giá trị 3 con xúc xắc, mỗi con có giá trị từ 1->6\n",
    "dice1 = random.randint(1, 6)\n",
    "dice2 = random.randint(1, 6)\n",
    "dice3 = random.randint(1, 6)\n",
    "dice_sum = dice1 + dice2 + dice3\n",
    "\n",
    "# Nếu tổng của 3 con xúc xắc >10 là \"tài\", ngược lại là \"xỉu\"\n",
    "bookie = \"tài\" if dice_sum > 10 else \"xỉu\"\n",
    "\n",
    "# Test phần này\n",
    "print(dice1, dice2, dice3, dice_sum ,bookie)"
   ]
  },
  {
   "attachments": {},
   "cell_type": "markdown",
   "metadata": {},
   "source": [
    "2. Tiếp theo ta cần một phần xử lí để phân định thắng thua"
   ]
  },
  {
   "cell_type": "code",
   "execution_count": 20,
   "metadata": {},
   "outputs": [
    {
     "name": "stdout",
     "output_type": "stream",
     "text": [
      "thua\n"
     ]
    }
   ],
   "source": [
    "guess = 'xỉu'\n",
    "bookie = 'tài'\n",
    "\n",
    "# Thông báo ra kết quả thắng hoặc thua\n",
    "if guess == bookie:\n",
    "    result = 'thắng'\n",
    "else:\n",
    "    result = 'thua'\n",
    "\n",
    "print(result)"
   ]
  },
  {
   "attachments": {},
   "cell_type": "markdown",
   "metadata": {},
   "source": [
    "3. Tiếp theo ta cần tiếp một phần để đưa ra kết quả và xử lí số dư"
   ]
  },
  {
   "cell_type": "code",
   "execution_count": 21,
   "metadata": {},
   "outputs": [
    {
     "name": "stdout",
     "output_type": "stream",
     "text": [
      "Bạn đã thắng! Số tiền của bạn hiện tại là: 10100\n"
     ]
    }
   ],
   "source": [
    "# Test\n",
    "result = 'thắng'\n",
    "money = 10000\n",
    "bet_amount = 100\n",
    "if result == 'thắng':\n",
    "    money += bet_amount\n",
    "    print(\"Bạn đã thắng! Số tiền của bạn hiện tại là:\", money)\n",
    "else:\n",
    "    money -= bet_amount\n",
    "    print(\"Bạn đã thua! Số tiền của bạn hiện tại là:\", money)\n"
   ]
  },
  {
   "attachments": {},
   "cell_type": "markdown",
   "metadata": {},
   "source": [
    "## Bước 3: Gộp các phần lại và hoàn thiện chương trình\n",
    "\n",
    "Như vậy là xong, ta sẽ gộp nó lại cho nó chạy xem oke chưa nhé"
   ]
  },
  {
   "cell_type": "code",
   "execution_count": 27,
   "metadata": {},
   "outputs": [
    {
     "name": "stdout",
     "output_type": "stream",
     "text": [
      "Bạn đã thua! Số tiền của bạn hiện tại là: 900\n"
     ]
    }
   ],
   "source": [
    "import random\n",
    "\n",
    "# Người chơi chọn\n",
    "money = 1000\n",
    "guess = \"tài\"\n",
    "bet_amount = 100\n",
    "\n",
    "# Chọn ngẫu nhiên giá trị 3 con xúc xắc, mỗi con có giá trị từ 1->6\n",
    "dice1 = random.randint(1, 6)\n",
    "dice2 = random.randint(1, 6)\n",
    "dice3 = random.randint(1, 6)\n",
    "dice_sum = dice1 + dice2 + dice3\n",
    "\n",
    "# Nếu tổng của 3 con xúc xắc >10 là \"tài\", ngược lại là \"xỉu\"\n",
    "bookie = \"tài\" if dice_sum > 10 else \"xỉu\"\n",
    "\n",
    "# Thông báo ra kết quả thắng hoặc thua\n",
    "if guess == bookie:\n",
    "    result = 'thắng'\n",
    "else:\n",
    "    result = 'thua'\n",
    "\n",
    "if result == 'thắng':\n",
    "    money += bet_amount\n",
    "    print(\"Bạn đã thắng! Số tiền của bạn hiện tại là:\", money)\n",
    "else:\n",
    "    money -= bet_amount\n",
    "    print(\"Bạn đã thua! Số tiền của bạn hiện tại là:\", money)\n"
   ]
  },
  {
   "attachments": {},
   "cell_type": "markdown",
   "metadata": {},
   "source": [
    "Nó chạy khá oke, Giờ là cho nó vào vòng lặp và clean lại"
   ]
  },
  {
   "cell_type": "code",
   "execution_count": null,
   "metadata": {},
   "outputs": [],
   "source": [
    "import random\n",
    "\n",
    "# khởi tạo số tiền của người chơi\n",
    "money = 1000\n",
    "\n",
    "while True:\n",
    "    # yêu cầu người chơi nhập vào \"tài\" hoặc \"xỉu\"\n",
    "    guess = input(\"Tài hay xỉu?: \")\n",
    "    \n",
    "    # yêu cầu người dùng nhập số tiền cược cho phiên cược\n",
    "    bet_amount = int(input(\"Số tiền cược: \"))\n",
    "    \n",
    "    # Chọn ngẫu nhiên giá trị 3 con xúc xắc, mỗi con có giá trị từ 1->6\n",
    "    dice1 = random.randint(1, 6)\n",
    "    dice2 = random.randint(1, 6)\n",
    "    dice3 = random.randint(1, 6)\n",
    "    dice_sum = dice1 + dice2 + dice3\n",
    "    \n",
    "    # Nếu tổng của 3 con xúc xắc >10 là \"tài\", ngược lại là \"xỉu\"\n",
    "    bookie = \"tài\" if dice_sum > 10 else \"xỉu\"\n",
    "    \n",
    "    # Thông báo ra kết quả thắng hoặc thua\n",
    "    if guess == bookie:\n",
    "        money += bet_amount\n",
    "        print(\"Bạn đã thắng! Số tiền của bạn hiện tại là:\", money)\n",
    "    else:\n",
    "        money -= bet_amount\n",
    "        print(\"Bạn đã thua! Số tiền của bạn hiện tại là:\", money)\n",
    "    \n",
    "    if money <= 0:\n",
    "        print(\"Bạn đã hết tiền!\")\n",
    "        break\n",
    "    \n",
    "    # Lặp lại phiên chơi khi người chơi nhập \"tiếp\" và dừng chơi trình khi \"dừng\"\n",
    "    play_again = input(\"Bạn muốn chơi tiếp không? (có/không): \")\n",
    "    if play_again.lower() == \"không\":\n",
    "        break\n",
    "\n",
    "print(\"Cảm ơn bạn đã chơi!\")"
   ]
  },
  {
   "cell_type": "code",
   "execution_count": null,
   "metadata": {},
   "outputs": [],
   "source": [
    "import random\n",
    "\n",
    "def random_may_tinh():\n",
    "    '''Hàm trả về kết quả ngẫu nhiên từ máy\n",
    "    Trả về tài hoặc xỉu\n",
    "    '''\n",
    "    # Chọn ngẫu nhiên giá trị 3 con xúc xắc, mỗi con có giá trị từ 1->6\n",
    "    dice1 = random.randint(1, 6)\n",
    "    dice2 = random.randint(1, 6)\n",
    "    dice3 = random.randint(1, 6)\n",
    "    dice_sum = dice1 + dice2 + dice3\n",
    "\n",
    "    # Nếu tổng của 3 con xúc xắc >10 là \"tài\", ngược lại là \"xỉu\"\n",
    "    bookie = \"tài\" if dice_sum > 10 else \"xỉu\"\n",
    "    return bookie\n",
    "        \n",
    "def dua_ra_kq(guess, bookie):\n",
    "    '''Hàm này để trả ra kết quả thắng hay thua khi người chơi chọn\n",
    "    '''\n",
    "    # Thông báo ra kết quả thắng hoặc thua\n",
    "    if guess == bookie:\n",
    "        result = 'thắng'\n",
    "    else:\n",
    "        result = 'thua'\n",
    "    return result\n",
    "\n",
    "def bao_ket_qua(result, bet_amount, money):\n",
    "    '''Hàm này để đặt lại tiền vốn và thông báo kết quả'''\n",
    "    if result == 'thắng':\n",
    "        money += bet_amount\n",
    "        print(\"Bạn đã thắng! Số tiền của bạn hiện tại là:\", money)\n",
    "    else:\n",
    "        money -= bet_amount\n",
    "        print(\"Bạn đã thua! Số tiền của bạn hiện tại là:\", money)\n",
    "    return money\n",
    "\n",
    "tien_von = 100000\n",
    "\n",
    "while True:\n",
    "    nguoi_choi = input(\"Hãy chọn tài hoặc xỉu: \")\n",
    "    if nguoi_choi == 'tài' or nguoi_choi == 'xỉu':\n",
    "        tien_cuoc = int(input(\"Hãy chọn số tiền đặt cược: \"))\n",
    "        if tien_cuoc > tien_von:\n",
    "            print('Tiền cược vượt quá số dư')\n",
    "            continue\n",
    "        may_tinh = random_may_tinh()\n",
    "        ket_qua = dua_ra_kq(nguoi_choi,may_tinh)\n",
    "        tien_von = bao_ket_qua(ket_qua, tien_cuoc, tien_von)\n",
    "        lap_lai = input(\"Nhập 'tiếp' để chơi phiên mới, 'dừng' để thoát chương trình: \")\n",
    "        if lap_lai == \"dừng\":\n",
    "            break\n",
    "print('cảm ơn bạn đã chơi')"
   ]
  }
 ],
 "metadata": {
  "kernelspec": {
   "display_name": "base",
   "language": "python",
   "name": "python3"
  },
  "language_info": {
   "codemirror_mode": {
    "name": "ipython",
    "version": 3
   },
   "file_extension": ".py",
   "mimetype": "text/x-python",
   "name": "python",
   "nbconvert_exporter": "python",
   "pygments_lexer": "ipython3",
   "version": "3.8.3"
  },
  "orig_nbformat": 4
 },
 "nbformat": 4,
 "nbformat_minor": 2
}
