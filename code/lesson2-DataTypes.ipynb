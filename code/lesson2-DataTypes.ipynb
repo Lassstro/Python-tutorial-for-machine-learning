{
 "cells": [
  {
   "attachments": {},
   "cell_type": "markdown",
   "metadata": {},
   "source": [
    "<h1 style=\"text-align: center;\">Lesson 2: Python data types</h1>"
   ]
  },
  {
   "attachments": {},
   "cell_type": "markdown",
   "metadata": {},
   "source": [
    "Kiểu dữ liệu là khái niệm quan trọng trong bất cứ ngôn ngữ lập trình nào.\n",
    "\n",
    "Những kiểu dữ liệu mặc định trong python là:\n",
    "\n",
    "1. Kiểu chuỗi (Text Type):\tstr\n",
    "\n",
    "2. Kiểu số (Numeric Types):\tint, float, complex\n",
    "\n",
    "3. Sequence Types:\tlist, tuple, range\n",
    "\n",
    "4. Mapping Type:\tdict\n",
    "\n",
    "5. Set Types:\tset, frozenset\n",
    "\n",
    "6. Boolean Type:\tbool\n",
    "\n",
    "7. Binary Types:\tbytes, bytearray, memoryview\n",
    "\n",
    "8. None Type:\tNoneType\n",
    "\n",
    "Với python, nó tự hiểu kiểu dữ liệu mà bạn khai báo mà không cần tiền tố khai báo. Điều này kiến việc sử dụng kiểu dữ liệu không tường minh, dễ dẫn tới lỗi data. Vì vậy cần nắm chắc datatypes từ đầu nhé :)))"
   ]
  },
  {
   "cell_type": "code",
   "execution_count": 2,
   "metadata": {},
   "outputs": [],
   "source": [
    "x = \"Hello World\"\t#str\t\n",
    "x = 20\t#int\tsố nguyên\n",
    "x = 20.5\t#float\tSố thực\n",
    "x = 1j\t#complex\tSố phức\n",
    "x = [\"apple\", \"banana\", \"cherry\"]\t#list\t\n",
    "x = (\"apple\", \"banana\", \"cherry\")\t#tuple\t\n",
    "x = range(6)\t#range\t\n",
    "x = {\"name\" : \"John\", \"age\" : 36}\t#dict\t\n",
    "x = {\"apple\", \"banana\", \"cherry\"}\t#set\t\n",
    "x = frozenset({\"apple\", \"banana\", \"cherry\"})\t#frozenset\t\n",
    "x = True\t#bool\t\n",
    "x = b\"Hello\"\t#bytes\t\n",
    "x = bytearray(5)\t#bytearray\t\n",
    "x = memoryview(bytes(5))\t#memoryview\t\n",
    "x = None\t#NoneType"
   ]
  },
  {
   "attachments": {},
   "cell_type": "markdown",
   "metadata": {},
   "source": [
    "Đặt kiểu dữ liệu cụ thể\n",
    "\n",
    "Nếu bạn muốn chỉ định kiểu dữ liệu, bạn có thể sử dụng các hàm tạo sau:"
   ]
  },
  {
   "cell_type": "code",
   "execution_count": 3,
   "metadata": {},
   "outputs": [],
   "source": [
    "x = str(\"Hello World\")\t#str\t\n",
    "x = int(20)\t#int\t\n",
    "x = float(20.5)\t#float\t\n",
    "x = complex(1j)\t#complex\t\n",
    "x = list((\"apple\", \"banana\", \"cherry\"))\t#list\t\n",
    "x = tuple((\"apple\", \"banana\", \"cherry\"))\t#tuple\t\n",
    "x = range(6)\t#range\t\n",
    "x = dict(name=\"John\", age=36)\t#dict\t\n",
    "x = set((\"apple\", \"banana\", \"cherry\"))\t#set\t\n",
    "x = frozenset((\"apple\", \"banana\", \"cherry\"))\t#frozenset\t\n",
    "x = bool(5)\t#bool\t\n",
    "x = bytes(5)\t#bytes\t\n",
    "x = bytearray(5)\t#bytearray\t\n",
    "x = memoryview(bytes(5))\t#memoryview"
   ]
  },
  {
   "cell_type": "code",
   "execution_count": 1,
   "metadata": {},
   "outputs": [
    {
     "name": "stdout",
     "output_type": "stream",
     "text": [
      "<class 'str'>\n"
     ]
    }
   ],
   "source": [
    "# Bạn có thể lấy kiểu dữ liệu của một đối tượng bất kì bằng hàm type()\n",
    "x = \"hello\"\n",
    "print(type(x))"
   ]
  },
  {
   "attachments": {},
   "cell_type": "markdown",
   "metadata": {},
   "source": [
    "Casting"
   ]
  },
  {
   "cell_type": "code",
   "execution_count": 5,
   "metadata": {},
   "outputs": [
    {
     "name": "stdout",
     "output_type": "stream",
     "text": [
      "2\n",
      "{0, 1, 'banana', 'cherry', 'apple'}\n"
     ]
    }
   ],
   "source": [
    "# Ép kiểu\n",
    "b = 2.5\n",
    "c = int(b)\n",
    "print(c)\n",
    "x = list((\"apple\", \"banana\", \"banana\", \"cherry\", \"apple\", 0, False, 1, True))\n",
    "print(set(x))"
   ]
  },
  {
   "attachments": {},
   "cell_type": "markdown",
   "metadata": {},
   "source": [
    "## 2.1. Numbers"
   ]
  },
  {
   "attachments": {},
   "cell_type": "markdown",
   "metadata": {},
   "source": [
    "Trong python có 3 kiểu dữ liệu dạng số:\n",
    "- Số nguyên: integer - int() vd: 1, 0, 5000, -1000\n",
    "- Số thực: float - vd: 15.0, 1.2, 1000.5555, 30e3\n",
    "- Số phức: complex - vd: 3+5j\n"
   ]
  },
  {
   "cell_type": "code",
   "execution_count": 2,
   "metadata": {},
   "outputs": [
    {
     "name": "stdout",
     "output_type": "stream",
     "text": [
      "1000000.0\n"
     ]
    }
   ],
   "source": [
    "a = 10e5\n",
    "print(a)"
   ]
  },
  {
   "attachments": {},
   "cell_type": "markdown",
   "metadata": {},
   "source": [
    "### 2.1.1. Python Arithmetic Operators"
   ]
  },
  {
   "cell_type": "code",
   "execution_count": 4,
   "metadata": {},
   "outputs": [
    {
     "name": "stdout",
     "output_type": "stream",
     "text": [
      "Tổng a + b = 21.5\n",
      "Hiệu a - b = 8.5\n",
      "Tích a x b = 97.5\n",
      "Thương a / b = 2.3076923076923075\n",
      "Chia lấy nguyên a // b = 2.0\n",
      "Chia lấy dư a % b = 2.0\n",
      "a^3 =  3375\n"
     ]
    }
   ],
   "source": [
    "a = 15\n",
    "b = 6.5\n",
    "print('Tổng a + b =', a+b)\n",
    "print('Hiệu a - b =', a-b)\n",
    "print('Tích a x b =', a*b)\n",
    "print('Thương a / b =', a/b)\n",
    "print('Chia lấy nguyên a // b =', a//b)\n",
    "print('Chia lấy dư a % b =', a%b)\n",
    "print('a^3 = ', a**3)"
   ]
  },
  {
   "attachments": {},
   "cell_type": "markdown",
   "metadata": {},
   "source": [
    "## 2.2. String"
   ]
  },
  {
   "attachments": {},
   "cell_type": "markdown",
   "metadata": {},
   "source": [
    "Chuỗi là kiểu dữ liệu cơ bản và phổ biến trong lập trình. Nó là kiểu dữ liệu biểu diễn văn bản. Về mặt bản chất, nó là các tập hợp 1 chuỗi kí tự, các kí tự này được mã hóa theo bảng mã ascci"
   ]
  },
  {
   "attachments": {},
   "cell_type": "markdown",
   "metadata": {},
   "source": [
    "Chuỗi theo đúng nghĩa đen nó là một chuỗi kí tự, vì vậy nó được đánh số thứ tự. Muốn truy vấn đến kí tự nào chỉ cần truyền index ở trong dấu []"
   ]
  },
  {
   "cell_type": "code",
   "execution_count": 7,
   "metadata": {},
   "outputs": [
    {
     "name": "stdout",
     "output_type": "stream",
     "text": [
      "W\n"
     ]
    }
   ],
   "source": [
    "b = \"Hello, World!\"\n",
    "print(b[7])"
   ]
  },
  {
   "attachments": {},
   "cell_type": "markdown",
   "metadata": {},
   "source": [
    "Nếu muốn truy xuất nhiều kí tự nối tiếp nhau có thể dùng cú pháp sau:"
   ]
  },
  {
   "cell_type": "code",
   "execution_count": 8,
   "metadata": {},
   "outputs": [
    {
     "name": "stdout",
     "output_type": "stream",
     "text": [
      "llo\n",
      "Hello\n",
      "orl\n"
     ]
    }
   ],
   "source": [
    "print(b[2:5]) # tính index từ trái sang phải, tăng dần từ 0\n",
    "print(b[:5]) \n",
    "print(b[-5:-2])  # tính từ phải sang trái, giảm dần từ 0"
   ]
  },
  {
   "attachments": {},
   "cell_type": "markdown",
   "metadata": {},
   "source": [
    "Với xử lí chuỗi, ta có một số hàm cơ bản thường dùng như sau:\n",
    "Nếu cần tìm hiểu thêm có thể gg với từ khóa String method"
   ]
  },
  {
   "cell_type": "code",
   "execution_count": 52,
   "metadata": {},
   "outputs": [
    {
     "name": "stdout",
     "output_type": "stream",
     "text": [
      "HELLO, WORLD!\n",
      "hello, world!\n"
     ]
    }
   ],
   "source": [
    "print(b.upper()) # chuyển về chữ in hoa\n",
    "print(b.lower()) # Chuyển về chữ thường"
   ]
  },
  {
   "cell_type": "code",
   "execution_count": 9,
   "metadata": {},
   "outputs": [
    {
     "name": "stdout",
     "output_type": "stream",
     "text": [
      "hello\n"
     ]
    }
   ],
   "source": [
    "a = \"   hello   \"\n",
    "print(a.strip()) # Loại bỏ khoảng trắng ở 2 đầu\n"
   ]
  },
  {
   "cell_type": "code",
   "execution_count": 11,
   "metadata": {},
   "outputs": [
    {
     "name": "stdout",
     "output_type": "stream",
     "text": [
      "['đây là đoạ', ' vă', ' ,bả', ' của tôi']\n"
     ]
    }
   ],
   "source": [
    "my_string = 'đây là đoạn văn ,bản của tôi'\n",
    "print(my_string.split('n')) # phân chia thành các chuổi con"
   ]
  },
  {
   "cell_type": "code",
   "execution_count": 12,
   "metadata": {},
   "outputs": [
    {
     "data": {
      "text/plain": [
       "'đ,â,y, ,l,à, ,đ,o,ạ,n, ,v,ă,n, ,,,b,ả,n, ,c,ủ,a, ,t,ô,i'"
      ]
     },
     "execution_count": 12,
     "metadata": {},
     "output_type": "execute_result"
    }
   ],
   "source": [
    "','.join(my_string)"
   ]
  },
  {
   "cell_type": "code",
   "execution_count": 13,
   "metadata": {},
   "outputs": [
    {
     "data": {
      "text/plain": [
       "'đây,là,đoạn,văn,,bản,của,tôi'"
      ]
     },
     "execution_count": 13,
     "metadata": {},
     "output_type": "execute_result"
    }
   ],
   "source": [
    "my_string.replace(' ',',')"
   ]
  },
  {
   "cell_type": "code",
   "execution_count": 46,
   "metadata": {},
   "outputs": [
    {
     "name": "stdout",
     "output_type": "stream",
     "text": [
      "HelloWorld\n"
     ]
    }
   ],
   "source": [
    "a = \"Hello\"\n",
    "b = \"World\"\n",
    "c = a + b\n",
    "print(c)"
   ]
  },
  {
   "cell_type": "code",
   "execution_count": 16,
   "metadata": {},
   "outputs": [
    {
     "name": "stdout",
     "output_type": "stream",
     "text": [
      "I want 567 pieces of item 3 for 49.95 dollars.\n",
      "I want 3 pieces of item 567 for 49.95 dollars.\n"
     ]
    }
   ],
   "source": [
    "quantity = 3\n",
    "itemno = 567\n",
    "price = 49.95\n",
    "myorder = \"I want {1} pieces of item {0} for {2} dollars.\"\n",
    "print(myorder.format(quantity, itemno, price))\n",
    "print(f'I want {quantity} pieces of item {itemno} for {price} dollars.')"
   ]
  },
  {
   "cell_type": "code",
   "execution_count": 115,
   "metadata": {},
   "outputs": [
    {
     "name": "stdout",
     "output_type": "stream",
     "text": [
      "the so-ca\tlled 'Vikings\" from \\\\ the \n",
      "noth.\n"
     ]
    }
   ],
   "source": [
    "txt = \"We are \\rthe so-ca\\tlled \\'Vikings\\\" from \\\\\\ the \\nnor\\bth.\"\n",
    "print(txt)"
   ]
  },
  {
   "attachments": {
    "image.png": {
     "image/png": "[encoded data removed]"
    }
   },
   "cell_type": "markdown",
   "metadata": {},
   "source": [
    "![image.png](attachment:image.png)"
   ]
  },
  {
   "attachments": {},
   "cell_type": "markdown",
   "metadata": {},
   "source": [
    "Mình muốn in ra đoạn như này: hello \"world\""
   ]
  },
  {
   "cell_type": "code",
   "execution_count": 20,
   "metadata": {},
   "outputs": [
    {
     "name": "stdout",
     "output_type": "stream",
     "text": [
      "hello 'wo\n",
      "rld\"\n"
     ]
    }
   ],
   "source": [
    "chuoi1 = \"hello \\'wo\\nrld\\\"\"\n",
    "print(chuoi1)"
   ]
  },
  {
   "attachments": {},
   "cell_type": "markdown",
   "metadata": {},
   "source": [
    "## 2.3. Boolean"
   ]
  },
  {
   "attachments": {},
   "cell_type": "markdown",
   "metadata": {},
   "source": [
    "Kiểu nhị phân 2 giá trị là True và False"
   ]
  },
  {
   "cell_type": "code",
   "execution_count": 36,
   "metadata": {},
   "outputs": [
    {
     "name": "stdout",
     "output_type": "stream",
     "text": [
      "<class 'str'>\n",
      "1\n"
     ]
    }
   ],
   "source": [
    "a = 1\n",
    "b = str(a)\n",
    "print(type(b))\n",
    "print(b)"
   ]
  },
  {
   "cell_type": "code",
   "execution_count": null,
   "metadata": {},
   "outputs": [],
   "source": [
    "True\n",
    "False"
   ]
  },
  {
   "attachments": {},
   "cell_type": "markdown",
   "metadata": {},
   "source": [
    "Một số giá trị được quy đổi tương đương với True"
   ]
  },
  {
   "cell_type": "code",
   "execution_count": 95,
   "metadata": {},
   "outputs": [
    {
     "name": "stdout",
     "output_type": "stream",
     "text": [
      "True\n",
      "True\n",
      "True\n"
     ]
    }
   ],
   "source": [
    "print(bool(1))\n",
    "print(bool('aaaa'))\n",
    "print(bool(100))"
   ]
  },
  {
   "cell_type": "code",
   "execution_count": 100,
   "metadata": {},
   "outputs": [
    {
     "name": "stdout",
     "output_type": "stream",
     "text": [
      "False\n",
      "False\n",
      "False\n",
      "False\n"
     ]
    }
   ],
   "source": [
    "print(bool(0))\n",
    "print(bool(''))\n",
    "print(bool({}))\n",
    "print(bool(list()))"
   ]
  },
  {
   "attachments": {},
   "cell_type": "markdown",
   "metadata": {},
   "source": [
    "Có rất nhiều phương thức sẽ trả về giá trị boolean để biểu thị kết quả của phương thức. Đơn giản nhất là toán tử so sánh"
   ]
  },
  {
   "cell_type": "code",
   "execution_count": 82,
   "metadata": {},
   "outputs": [
    {
     "name": "stdout",
     "output_type": "stream",
     "text": [
      "True\n",
      "False\n",
      "False\n"
     ]
    }
   ],
   "source": [
    "print(10 > 9)\n",
    "print(10 == 9)\n",
    "print(10 < 9)"
   ]
  },
  {
   "attachments": {},
   "cell_type": "markdown",
   "metadata": {},
   "source": [
    "Trong cấu trúc rẽ nhánh if else"
   ]
  },
  {
   "cell_type": "code",
   "execution_count": 33,
   "metadata": {},
   "outputs": [
    {
     "name": "stdout",
     "output_type": "stream",
     "text": [
      "đúng\n"
     ]
    }
   ],
   "source": [
    "\n",
    "b = 1==2\n",
    "c = 1<2\n",
    "\n",
    "if 100:\n",
    "    print('đúng')\n",
    "else:\n",
    "    print('sai')"
   ]
  },
  {
   "attachments": {},
   "cell_type": "markdown",
   "metadata": {},
   "source": [
    "## 2.4. Operators"
   ]
  },
  {
   "attachments": {},
   "cell_type": "markdown",
   "metadata": {},
   "source": [
    "Có nhiều loại toán tử trong python. Có thể liệt kê theo cách phân loại sau:"
   ]
  },
  {
   "attachments": {},
   "cell_type": "markdown",
   "metadata": {},
   "source": [
    "### Toán tử toán học (Arithmetic Operators)"
   ]
  },
  {
   "cell_type": "code",
   "execution_count": 38,
   "metadata": {},
   "outputs": [
    {
     "name": "stdout",
     "output_type": "stream",
     "text": [
      "2\n"
     ]
    }
   ],
   "source": [
    "print(True + True)"
   ]
  },
  {
   "attachments": {},
   "cell_type": "markdown",
   "metadata": {},
   "source": [
    "### Toán tử gán (Assignment Operators)"
   ]
  },
  {
   "cell_type": "code",
   "execution_count": 44,
   "metadata": {},
   "outputs": [],
   "source": [
    "x = 5\n",
    "\n",
    "while (x < 5):\n",
    "    print(x)\n",
    "    x += 1"
   ]
  },
  {
   "cell_type": "code",
   "execution_count": 41,
   "metadata": {},
   "outputs": [
    {
     "name": "stdout",
     "output_type": "stream",
     "text": [
      "10\n"
     ]
    }
   ],
   "source": [
    "x = 5\n",
    "# x = x + 5\n",
    "x += 5\n",
    "print(x)"
   ]
  },
  {
   "attachments": {},
   "cell_type": "markdown",
   "metadata": {},
   "source": [
    "### Toán tử so sánh (Comparison Operators)"
   ]
  },
  {
   "cell_type": "code",
   "execution_count": 121,
   "metadata": {},
   "outputs": [
    {
     "name": "stdout",
     "output_type": "stream",
     "text": [
      "False True False True False True\n"
     ]
    }
   ],
   "source": [
    "a=1\n",
    "b=2\n",
    "print(a==b, a!=b, a>b, a<b, a>=b, a<=b)"
   ]
  },
  {
   "attachments": {},
   "cell_type": "markdown",
   "metadata": {},
   "source": [
    "### Toán tử logic (Logical Operators)"
   ]
  },
  {
   "cell_type": "code",
   "execution_count": 2,
   "metadata": {},
   "outputs": [
    {
     "name": "stdout",
     "output_type": "stream",
     "text": [
      "False\n",
      "True\n",
      "False\n"
     ]
    }
   ],
   "source": [
    "print(True and False)\n",
    "print(True or False)\n",
    "print(not True)"
   ]
  },
  {
   "attachments": {},
   "cell_type": "markdown",
   "metadata": {},
   "source": [
    "### Toán tử danh định (Identity Operators)"
   ]
  },
  {
   "cell_type": "code",
   "execution_count": 122,
   "metadata": {},
   "outputs": [
    {
     "name": "stdout",
     "output_type": "stream",
     "text": [
      "True\n",
      "False\n",
      "True\n"
     ]
    }
   ],
   "source": [
    "x = [\"apple\", \"banana\"]\n",
    "y = [\"apple\", \"banana\"]\n",
    "z = x\n",
    "print(x is z)\n",
    "# returns True because z is the same object as x\n",
    "print(x is y)\n",
    "# returns False because x is not the same object as y, even if they have the same content\n",
    "print(x == y)\n",
    "# to demonstrate the difference betweeen \"is\" and \"==\": this comparison returns True because x is equal to y"
   ]
  },
  {
   "attachments": {},
   "cell_type": "markdown",
   "metadata": {},
   "source": [
    "### Bitwise Operators"
   ]
  },
  {
   "cell_type": "code",
   "execution_count": null,
   "metadata": {},
   "outputs": [],
   "source": [
    "print(6 & 3)\n",
    "\n",
    "\"\"\"\n",
    "The & operator compares each bit and set it to 1 if both are 1, otherwise it is set to 0:\n",
    "\n",
    "6 = 0000000000000110\n",
    "3 = 0000000000000011\n",
    "--------------------\n",
    "2 = 0000000000000010\n",
    "====================\n",
    "\"\"\""
   ]
  },
  {
   "attachments": {},
   "cell_type": "markdown",
   "metadata": {},
   "source": [
    "### Thứ tự ưu tiên"
   ]
  },
  {
   "attachments": {
    "image.png": {
     "image/png": "[encoded data removed]"
    }
   },
   "cell_type": "markdown",
   "metadata": {},
   "source": [
    "![image.png](attachment:image.png)"
   ]
  },
  {
   "cell_type": "code",
   "execution_count": 46,
   "metadata": {},
   "outputs": [
    {
     "data": {
      "text/plain": [
       "9"
      ]
     },
     "execution_count": 46,
     "metadata": {},
     "output_type": "execute_result"
    }
   ],
   "source": [
    "(1 + 2) * 3\n",
    "x = 2.5\n",
    "# X không phải là số nguyên\n",
    "# Xét kiểu dữ liệu của x phải là int\n",
    "# Nếu x là chẵn => in ra 'x là số chẵn'\n",
    "# Ngược lại => x là số lẻ"
   ]
  }
 ],
 "metadata": {
  "kernelspec": {
   "display_name": "Python 3",
   "language": "python",
   "name": "python3"
  },
  "language_info": {
   "codemirror_mode": {
    "name": "ipython",
    "version": 3
   },
   "file_extension": ".py",
   "mimetype": "text/x-python",
   "name": "python",
   "nbconvert_exporter": "python",
   "pygments_lexer": "ipython3",
   "version": "3.8.3"
  },
  "orig_nbformat": 4,
  "vscode": {
   "interpreter": {
    "hash": "a4868653bb6f8972e87e4c446ab8a445a15b25dedb8594cc74c480f8152ea86a"
   }
  }
 },
 "nbformat": 4,
 "nbformat_minor": 2
}
