{
 "cells": [
  {
   "cell_type": "code",
   "execution_count": 2,
   "metadata": {},
   "outputs": [],
   "source": [
    "## Ignore all warnings\n",
    "import warnings\n",
    "warnings.filterwarnings('ignore')\n",
    "warnings.filterwarnings(action='ignore', category=DeprecationWarning)"
   ]
  },
  {
   "attachments": {},
   "cell_type": "markdown",
   "metadata": {},
   "source": [
    "<h1 style=\"text-align: center;\">Lesson 9: File Handling</h1>"
   ]
  },
  {
   "attachments": {},
   "cell_type": "markdown",
   "metadata": {},
   "source": [
    "Trong việc sử dụng dữ liệu, việc thao tác với file bắt buộc. Một số thao tác cơ bản như load, thêm, sửa, xóa,... là những cái k thể thiếu nếu muốn làm việc với dữ liệu."
   ]
  },
  {
   "attachments": {},
   "cell_type": "markdown",
   "metadata": {},
   "source": [
    "## 1. Giới thiệu về file trong máy tính"
   ]
  },
  {
   "attachments": {},
   "cell_type": "markdown",
   "metadata": {},
   "source": [
    "File là một tập hợp các dữ liệu được lưu trữ trên đĩa cứng hoặc bất kỳ thiết bị nào có thể lưu trữ dữ liệu\n",
    "\n",
    "Có nhiều định dạng file khác nhau để lưu trữ dữ liệu trong máy tính, ví dụ như:\n",
    "\n",
    "- Định dạng văn bản: Đây là định dạng phổ biến nhất để lưu trữ văn bản và dữ liệu. Các định dạng file văn bản như .txt, .csv, .tsv, .log được sử dụng rộng rãi để lưu trữ và trao đổi dữ liệu giữa các ứng dụng và hệ thống.\n",
    "\n",
    "- Định dạng hình ảnh: Đây là định dạng file được sử dụng để lưu trữ hình ảnh và đồ họa. Các định dạng file hình ảnh như .jpg, .png, .bmp, .gif, .svg được sử dụng rộng rãi trong các ứng dụng đồ họa, web design, đồ họa game, và còn nhiều ứng dụng khác.\n",
    "\n",
    "- Định dạng âm thanh: Đây là định dạng file được sử dụng để lưu trữ âm thanh và nhạc. Các định dạng file âm thanh như .mp3, .wav, .flac, .aac được sử dụng rộng rãi trong các ứng dụng nhạc và âm thanh.\n",
    "\n",
    "- Định dạng video: Đây là định dạng file được sử dụng để lưu trữ video và phim. Các định dạng file video như .mp4, .avi, .mkv, .wmv được sử dụng rộng rãi trong các ứng dụng video, phim ảnh, và còn nhiều ứng dụng khác.\n",
    "\n",
    "- Định dạng mã nguồn: Đây là định dạng file được sử dụng để lưu trữ mã nguồn của các chương trình và ứng dụng. Các định dạng file mã nguồn như .py, .java, .cpp, .php được sử dụng rộng rãi trong lĩnh vực lập trình và phát triển phần mềm.\n",
    "\n",
    "Các định dạng file này có những đặc điểm và tính năng riêng biệt phù hợp với các mục đích sử dụng khác nhau, vì vậy việc lựa chọn định dạng file thích hợp sẽ giúp tối ưu hóa hiệu suất và tiết kiệm tài nguyên"
   ]
  },
  {
   "attachments": {},
   "cell_type": "markdown",
   "metadata": {},
   "source": [
    "### 1.1. Định dạng văn bản"
   ]
  },
  {
   "attachments": {},
   "cell_type": "markdown",
   "metadata": {},
   "source": [
    "Đây là định dạng phổ biến để lưu trữ dữ liệu"
   ]
  },
  {
   "attachments": {},
   "cell_type": "markdown",
   "metadata": {},
   "source": [
    "Để mở file sử dụng hàm open(). Hàm open() trong Python được sử dụng để mở một file và trả về một đối tượng file. Cú pháp như sau:"
   ]
  },
  {
   "cell_type": "code",
   "execution_count": 1,
   "metadata": {},
   "outputs": [
    {
     "name": "stdout",
     "output_type": "stream",
     "text": [
      "<class '_io.TextIOWrapper'>\n"
     ]
    }
   ],
   "source": [
    "file = open(\"data/test1.txt\", \"r\")\n",
    "print(type(file))\n",
    "file.close()"
   ]
  },
  {
   "cell_type": "code",
   "execution_count": 3,
   "metadata": {},
   "outputs": [
    {
     "name": "stdout",
     "output_type": "stream",
     "text": [
      "Hello, World!\n",
      "This is appended text!\n",
      "This is appended text!\n",
      "This is appended text!\n",
      "This is appended text!\n",
      "<class 'str'>\n"
     ]
    }
   ],
   "source": [
    "# Đọc nội dung\n",
    "file = open(\"data/test1.txt\", \"r\", encoding=\"utf-8\")\n",
    "content = file.read()\n",
    "print(content)\n",
    "print(type(content))\n",
    "file.close()"
   ]
  },
  {
   "attachments": {},
   "cell_type": "markdown",
   "metadata": {},
   "source": [
    "Dưới đây là mô tả về một số mã hóa phổ biến:\n",
    "\n",
    "1. ASCII (American Standard Code for Information Interchange)\n",
    "\n",
    "    Là bảng mã đầu tiên được sử dụng trong máy tính\n",
    "    Gồm 128 ký tự được mã hóa từ 0-127, bao gồm các ký tự chữ cái, số và ký tự đặc biệt\n",
    "    Có thể được sử dụng cho các tài liệu văn bản bình thường nhưng không đủ để mã hóa các ký tự của nhiều ngôn ngữ khác ngoài tiếng Anh\n",
    "\n",
    "2. UTF-8 (Unicode Transformation Format - 8-bit)\n",
    "\n",
    "    Là một trong những bảng mã Unicode phổ biến nhất\n",
    "    Sử dụng độ dài biến đổi để mã hóa các ký tự Unicode, bao gồm các ký tự của nhiều ngôn ngữ khác nhau và các biểu tượng đặc biệt như hình ảnh emoji\n",
    "    Tương thích ngược với ASCII, tức là các tài liệu văn bản sử dụng UTF-8 có thể được đọc bởi các trình đọc ASCII, nhưng ngược lại không đúng\n",
    "\n",
    "3. UTF-16 (Unicode Transformation Format - 16-bit)\n",
    "\n",
    "    Tương tự như UTF-8, nhưng sử dụng 16-bit độ dài biến đổi để mã hóa các ký tự Unicode\n",
    "    Thường được sử dụng trong các ứng dụng phần mềm và hệ thống lớn\n",
    "\n",
    "4. ISO-8859-1 (Latin-1)\n",
    "\n",
    "    Mã hóa chuẩn cho các ngôn ngữ Tây Âu và đa số các ngôn ngữ được sử dụng ở Châu Âu\n",
    "    Chứa 256 ký tự được mã hóa từ 0-255, bao gồm các ký tự chữ cái, số và ký tự đặc biệt\n",
    "    Không chứa các ký tự đặc biệt của nhiều ngôn ngữ khác ngoài tiếng Anh\n",
    "    \n",
    "Việc chọn mã hóa phù hợp phụ thuộc vào ngôn ngữ được sử dụng trong tài liệu văn bản và các yêu cầu của ứng dụng. Nếu tài liệu văn bản của bạn chứa các ký tự đặc biệt hoặc các ngôn ngữ khác ngoài tiếng Anh, UTF-8 là sự lựa chọn tốt nhất."
   ]
  },
  {
   "cell_type": "code",
   "execution_count": 6,
   "metadata": {},
   "outputs": [],
   "source": [
    "# Viết vào file mới, nếu chưa có thì tự tạo\n",
    "file = open(\"data/test1.txt\", \"w\")\n",
    "file.write(\"Hello, World!\")\n",
    "file.close()"
   ]
  },
  {
   "cell_type": "code",
   "execution_count": 10,
   "metadata": {},
   "outputs": [],
   "source": [
    "# Mở file để ghi, nếu tồn tại thì viết thêm vào cuối\n",
    "file = open(\"data/test1.txt\", \"a\")\n",
    "file.write(\"\\nThis is appended text!\")\n",
    "file.close()"
   ]
  },
  {
   "cell_type": "code",
   "execution_count": 12,
   "metadata": {},
   "outputs": [],
   "source": [
    "# Mở file để ghi - nếu file không tồn tại thì tạo file mới - nếu file đã tồn tại thì sẽ raise lỗi\n",
    "file = open(\"data/test2.txt\", \"x\")\n",
    "file.write(\"This is appended text!\")\n",
    "file.close()"
   ]
  },
  {
   "cell_type": "code",
   "execution_count": 13,
   "metadata": {},
   "outputs": [
    {
     "name": "stdout",
     "output_type": "stream",
     "text": [
      "Hello, World!\n",
      "\n",
      "This is appended text!\n",
      "\n"
     ]
    }
   ],
   "source": [
    "# Đọc lần lượt từng dòng\n",
    "file = open(\"data/test1.txt\", \"r\")\n",
    "line = file.readline()\n",
    "print(line)\n",
    "line = file.readline()\n",
    "print(line)\n",
    "file.close()\n"
   ]
  },
  {
   "cell_type": "code",
   "execution_count": 14,
   "metadata": {},
   "outputs": [
    {
     "name": "stdout",
     "output_type": "stream",
     "text": [
      "['Hello, World!\\n', 'This is appended text!\\n', 'This is appended text!\\n', 'This is appended text!\\n', 'This is appended text!']\n",
      "Hello, World!\n",
      "\n",
      "This is appended text!\n",
      "\n",
      "This is appended text!\n",
      "\n",
      "This is appended text!\n",
      "\n",
      "This is appended text!\n"
     ]
    }
   ],
   "source": [
    "# Đọc tất cả các dòng và chuyển về danh sách\n",
    "file = open(\"data/test1.txt\", \"r\")\n",
    "lines = file.readlines()\n",
    "print(lines)\n",
    "for line in lines:\n",
    "    print(line)\n",
    "file.close()"
   ]
  },
  {
   "attachments": {},
   "cell_type": "markdown",
   "metadata": {},
   "source": [
    "## 1.2. Định dạng hình ảnh"
   ]
  },
  {
   "attachments": {},
   "cell_type": "markdown",
   "metadata": {},
   "source": [
    "Để thao tác với file hình ảnh trong Python, chúng ta cần sử dụng thư viện PIL (Python Imaging Library) hoặc thư viện Pillow (PIL Fork). Thư viện Pillow cung cấp nhiều tính năng tiện ích cho việc xử lý hình ảnh trong Python."
   ]
  },
  {
   "cell_type": "code",
   "execution_count": 64,
   "metadata": {},
   "outputs": [
    {
     "name": "stdout",
     "output_type": "stream",
     "text": [
      "Requirement already satisfied: pillow in c:\\users\\admin\\anaconda3\\lib\\site-packages (8.4.0)\n"
     ]
    }
   ],
   "source": [
    "!pip install pillow"
   ]
  },
  {
   "cell_type": "code",
   "execution_count": 4,
   "metadata": {},
   "outputs": [],
   "source": [
    "from PIL import Image"
   ]
  },
  {
   "cell_type": "code",
   "execution_count": 5,
   "metadata": {},
   "outputs": [
    {
     "name": "stdout",
     "output_type": "stream",
     "text": [
      "[[116 115 114 ... 112 112 112]\n",
      " [114 115 114 ... 111 111 111]\n",
      " [113 114 114 ... 110 110 110]\n",
      " ...\n",
      " [ 58  58  58 ...  58  58  58]\n",
      " [ 58  58  58 ...  58  58  58]\n",
      " [ 58  58  58 ...  58  58  58]]\n"
     ]
    }
   ],
   "source": [
    "import cv2\n",
    "\n",
    "# The function cv2.imread() is used to read an image.\n",
    "img_grayscale = cv2.imread('data/hoacuc.jpg',0)\n",
    "print(img_grayscale)\n",
    "cv2.imshow('graycsale image',img_grayscale)\n"
   ]
  },
  {
   "cell_type": "code",
   "execution_count": 6,
   "metadata": {},
   "outputs": [
    {
     "name": "stdout",
     "output_type": "stream",
     "text": [
      "<PIL.JpegImagePlugin.JpegImageFile image mode=RGB size=700x1244 at 0x21628DCEDF0>\n"
     ]
    }
   ],
   "source": [
    "# Mở file hình ảnh\n",
    "image = Image.open(\"data/hoacuc.jpg\")\n",
    "print(image)"
   ]
  },
  {
   "cell_type": "code",
   "execution_count": 5,
   "metadata": {},
   "outputs": [
    {
     "name": "stdout",
     "output_type": "stream",
     "text": [
      "Kích thước của hình ảnh:  700 x 1244\n",
      "Kiểu hình ảnh:  RGB\n"
     ]
    }
   ],
   "source": [
    "# Lấy kích thước của hình ảnh\n",
    "width, height = image.size\n",
    "print(\"Kích thước của hình ảnh: \", width, \"x\", height)\n",
    "\n",
    "# Lấy kiểu hình ảnh\n",
    "mode = image.mode\n",
    "print(\"Kiểu hình ảnh: \", mode)"
   ]
  },
  {
   "cell_type": "code",
   "execution_count": 6,
   "metadata": {},
   "outputs": [
    {
     "name": "stdout",
     "output_type": "stream",
     "text": [
      "Kích thước của hình ảnh:  350 x 622\n"
     ]
    }
   ],
   "source": [
    "# Thay đổi kích thước của hình ảnh\n",
    "new_size = (width // 2, height // 2)  # Giảm kích thước xuống 1/2\n",
    "resized_image = image.resize(new_size)\n",
    "width, height = resized_image.size\n",
    "print(\"Kích thước của hình ảnh: \", width, \"x\", height)\n",
    "\n",
    "# Lưu hình ảnh mới vào file\n",
    "resized_image.save(\"data/resized_hoacuc.jpg\")"
   ]
  },
  {
   "cell_type": "code",
   "execution_count": 7,
   "metadata": {},
   "outputs": [],
   "source": [
    "# Cắt một phần của hình ảnh\n",
    "crop_region = (300, 1000, 500, 1200)  # (x1, y1, x2, y2)\n",
    "cropped_image = image.crop(crop_region)\n",
    "\n",
    "# Lưu hình ảnh mới vào file\n",
    "cropped_image.save(\"data/cropped_hoacuc.jpg\")"
   ]
  },
  {
   "cell_type": "code",
   "execution_count": 8,
   "metadata": {},
   "outputs": [],
   "source": [
    "# Chuyển đổi kiểu hình ảnh\n",
    "converted_image = image.convert(\"L\")  # Chuyển đổi sang hình ảnh xám\n",
    "converted_image.save(\"data/gray_hoacuc.jpg\")"
   ]
  },
  {
   "cell_type": "code",
   "execution_count": null,
   "metadata": {},
   "outputs": [],
   "source": [
    "# Lấy giá trị pixel\n",
    "pixel_values = list(cropped_image.getdata())\n",
    "\n",
    "# # In ra giá trị pixel của ảnh\n",
    "# print(pixel_values)"
   ]
  },
  {
   "cell_type": "code",
   "execution_count": 101,
   "metadata": {},
   "outputs": [],
   "source": [
    "image.close()"
   ]
  },
  {
   "attachments": {},
   "cell_type": "markdown",
   "metadata": {},
   "source": [
    "Ngoài Pillow, bạn cũng có thể sử dụng thư viện OpenCV để đọc hình ảnh và lấy giá trị pixel của nó. Thư viện này hỗ trợ đọc và xử lý nhiều định dạng hình ảnh khác nhau, bao gồm cả ảnh màu và ảnh xám"
   ]
  },
  {
   "attachments": {},
   "cell_type": "markdown",
   "metadata": {},
   "source": [
    "## 1.3. Định dạng âm thanh"
   ]
  },
  {
   "attachments": {},
   "cell_type": "markdown",
   "metadata": {},
   "source": [
    "Một số thư viện python hỗ trợ xử lý âm thanh như librosa, scipy, torchaudio. Tất cả đều cho phép bạn đọc các tệp âm thanh ở các định dạng khác nhau."
   ]
  },
  {
   "cell_type": "code",
   "execution_count": 7,
   "metadata": {},
   "outputs": [],
   "source": [
    "from scipy.io import wavfile"
   ]
  },
  {
   "cell_type": "code",
   "execution_count": 9,
   "metadata": {},
   "outputs": [
    {
     "name": "stdout",
     "output_type": "stream",
     "text": [
      "\n",
      "Signal shape: (331776, 2)\n",
      "Signal Datatype: int16\n",
      "48000\n"
     ]
    }
   ],
   "source": [
    "frequency_sampling, audio_signal = wavfile.read('./data/audio.wav')\n",
    "print('\\nSignal shape:', audio_signal.shape)\n",
    "print('Signal Datatype:', audio_signal.dtype)\n",
    "print(frequency_sampling)"
   ]
  },
  {
   "cell_type": "code",
   "execution_count": 13,
   "metadata": {},
   "outputs": [
    {
     "data": {
      "image/png": "[encoded data removed]",
      "text/plain": [
       "<Figure size 864x576 with 1 Axes>"
      ]
     },
     "metadata": {
      "needs_background": "light"
     },
     "output_type": "display_data"
    }
   ],
   "source": [
    "import matplotlib.pyplot as plt\n",
    "plt.figure('signal', figsize=(12,8))\n",
    "plt.plot(audio_signal, color='blue')\n",
    "plt.xlabel('Time (2e-5 seconds)')\n",
    "plt.ylabel('Amplitude')\n",
    "plt.grid()\n",
    "plt.show()"
   ]
  },
  {
   "attachments": {},
   "cell_type": "markdown",
   "metadata": {},
   "source": [
    "## 1.4. Định dạng video"
   ]
  },
  {
   "cell_type": "code",
   "execution_count": 1,
   "metadata": {},
   "outputs": [
    {
     "name": "stdout",
     "output_type": "stream",
     "text": [
      "Collecting opencv-python"
     ]
    },
    {
     "name": "stderr",
     "output_type": "stream",
     "text": [
      "ERROR: Exception:\n",
      "Traceback (most recent call last):\n",
      "  File \"C:\\Users\\Admin\\anaconda3\\lib\\site-packages\\pip\\_vendor\\urllib3\\response.py\", line 425, in _error_catcher\n",
      "    yield\n",
      "  File \"C:\\Users\\Admin\\anaconda3\\lib\\site-packages\\pip\\_vendor\\urllib3\\response.py\", line 507, in read\n",
      "    data = self._fp.read(amt) if not fp_closed else b\"\"\n",
      "  File \"C:\\Users\\Admin\\anaconda3\\lib\\site-packages\\pip\\_vendor\\cachecontrol\\filewrapper.py\", line 62, in read\n",
      "    data = self.__fp.read(amt)\n",
      "  File \"C:\\Users\\Admin\\anaconda3\\lib\\http\\client.py\", line 454, in read\n",
      "    n = self.readinto(b)\n",
      "  File \"C:\\Users\\Admin\\anaconda3\\lib\\http\\client.py\", line 498, in readinto\n",
      "    n = self.fp.readinto(b)\n",
      "  File \"C:\\Users\\Admin\\anaconda3\\lib\\socket.py\", line 669, in readinto\n",
      "    return self._sock.recv_into(b)\n",
      "  File \"C:\\Users\\Admin\\anaconda3\\lib\\ssl.py\", line 1241, in recv_into\n",
      "    return self.read(nbytes, buffer)\n",
      "  File \"C:\\Users\\Admin\\anaconda3\\lib\\ssl.py\", line 1099, in read\n",
      "    return self._sslobj.read(len, buffer)\n",
      "socket.timeout: The read operation timed out\n",
      "\n",
      "During handling of the above exception, another exception occurred:\n",
      "\n",
      "Traceback (most recent call last):\n",
      "  File \"C:\\Users\\Admin\\anaconda3\\lib\\site-packages\\pip\\_internal\\cli\\base_command.py\", line 188, in _main\n",
      "    status = self.run(options, args)\n",
      "  File \"C:\\Users\\Admin\\anaconda3\\lib\\site-packages\\pip\\_internal\\cli\\req_command.py\", line 185, in wrapper\n",
      "    return func(self, options, args)\n",
      "  File \"C:\\Users\\Admin\\anaconda3\\lib\\site-packages\\pip\\_internal\\commands\\install.py\", line 332, in run\n",
      "    requirement_set = resolver.resolve(\n",
      "  File \"C:\\Users\\Admin\\anaconda3\\lib\\site-packages\\pip\\_internal\\resolution\\legacy\\resolver.py\", line 179, in resolve\n",
      "    discovered_reqs.extend(self._resolve_one(requirement_set, req))\n",
      "  File \"C:\\Users\\Admin\\anaconda3\\lib\\site-packages\\pip\\_internal\\resolution\\legacy\\resolver.py\", line 362, in _resolve_one\n",
      "    abstract_dist = self._get_abstract_dist_for(req_to_install)\n",
      "  File \"C:\\Users\\Admin\\anaconda3\\lib\\site-packages\\pip\\_internal\\resolution\\legacy\\resolver.py\", line 314, in _get_abstract_dist_for\n",
      "    abstract_dist = self.preparer.prepare_linked_requirement(req)\n",
      "  File \"C:\\Users\\Admin\\anaconda3\\lib\\site-packages\\pip\\_internal\\operations\\prepare.py\", line 467, in prepare_linked_requirement\n",
      "    local_file = unpack_url(\n",
      "  File \"C:\\Users\\Admin\\anaconda3\\lib\\site-packages\\pip\\_internal\\operations\\prepare.py\", line 255, in unpack_url\n",
      "    file = get_http_url(\n",
      "  File \"C:\\Users\\Admin\\anaconda3\\lib\\site-packages\\pip\\_internal\\operations\\prepare.py\", line 129, in get_http_url\n",
      "    from_path, content_type = _download_http_url(\n",
      "  File \"C:\\Users\\Admin\\anaconda3\\lib\\site-packages\\pip\\_internal\\operations\\prepare.py\", line 281, in _download_http_url\n",
      "    for chunk in download.chunks:\n",
      "  File \"C:\\Users\\Admin\\anaconda3\\lib\\site-packages\\pip\\_internal\\cli\\progress_bars.py\", line 166, in iter\n",
      "    for x in it:\n",
      "  File \"C:\\Users\\Admin\\anaconda3\\lib\\site-packages\\pip\\_internal\\network\\utils.py\", line 15, in response_chunks\n",
      "    for chunk in response.raw.stream(\n",
      "  File \"C:\\Users\\Admin\\anaconda3\\lib\\site-packages\\pip\\_vendor\\urllib3\\response.py\", line 564, in stream\n",
      "    data = self.read(amt=amt, decode_content=decode_content)\n",
      "  File \"C:\\Users\\Admin\\anaconda3\\lib\\site-packages\\pip\\_vendor\\urllib3\\response.py\", line 529, in read\n",
      "    raise IncompleteRead(self._fp_bytes_read, self.length_remaining)\n",
      "  File \"C:\\Users\\Admin\\anaconda3\\lib\\contextlib.py\", line 131, in __exit__\n",
      "    self.gen.throw(type, value, traceback)\n",
      "  File \"C:\\Users\\Admin\\anaconda3\\lib\\site-packages\\pip\\_vendor\\urllib3\\response.py\", line 430, in _error_catcher\n",
      "    raise ReadTimeoutError(self._pool, None, \"Read timed out.\")\n",
      "pip._vendor.urllib3.exceptions.ReadTimeoutError: HTTPSConnectionPool(host='files.pythonhosted.org', port=443): Read timed out.\n"
     ]
    },
    {
     "name": "stdout",
     "output_type": "stream",
     "text": [
      "\n",
      "  Downloading opencv_python-4.7.0.72-cp37-abi3-win_amd64.whl (38.2 MB)\n"
     ]
    }
   ],
   "source": [
    "!pip install --upgrade opencv-python"
   ]
  },
  {
   "cell_type": "code",
   "execution_count": 14,
   "metadata": {},
   "outputs": [
    {
     "name": "stdout",
     "output_type": "stream",
     "text": [
      "<VideoCapture 000002163E0F9990>\n",
      "mở video\n",
      "Video length (seconds):  7.4\n"
     ]
    }
   ],
   "source": [
    "import cv2\n",
    "\n",
    "# Mở video\n",
    "cap = cv2.VideoCapture('data/video.mp4')\n",
    "print(cap)\n",
    "# Kiểm tra video đã mở thành công chưa\n",
    "if cap.isOpened():\n",
    "    print('mở video')\n",
    "else:\n",
    "    print('Mở không thành công')\n",
    "\n",
    "# Lấy số frame và fps của video\n",
    "frame_count = int(cap.get(cv2.CAP_PROP_FRAME_COUNT))\n",
    "fps = int(cap.get(cv2.CAP_PROP_FPS))\n",
    "\n",
    "# Tính độ dài video dựa trên số frame và fps\n",
    "video_length_sec = frame_count / fps\n",
    "\n",
    "# In kết quả\n",
    "print(\"Video length (seconds): \", video_length_sec)\n",
    "\n",
    "while True:\n",
    "    # Đọc từng frame trong video\n",
    "    ret, frame = cap.read()\n",
    "    \n",
    "    # Kiểm tra xem video đã kết thúc hay chưa\n",
    "    if not ret:\n",
    "        break\n",
    "    \n",
    "    # Hiển thị video\n",
    "    cv2.imshow('Video', frame)\n",
    "    \n",
    "    # Đợi 25ms để chuyển sang frame tiếp theo\n",
    "    # Nếu nhấn phím 'q' thì thoát khỏi vòng lặp\n",
    "    if cv2.waitKey(25) & 0xFF == ord('q'):\n",
    "        break\n",
    "\n",
    "# Giải phóng bộ nhớ và đóng đối tượng VideoCapture\n",
    "cap.release()\n",
    "cv2.destroyAllWindows()"
   ]
  }
 ],
 "metadata": {
  "kernelspec": {
   "display_name": "base",
   "language": "python",
   "name": "python3"
  },
  "language_info": {
   "codemirror_mode": {
    "name": "ipython",
    "version": 3
   },
   "file_extension": ".py",
   "mimetype": "text/x-python",
   "name": "python",
   "nbconvert_exporter": "python",
   "pygments_lexer": "ipython3",
   "version": "3.8.3"
  },
  "orig_nbformat": 4
 },
 "nbformat": 4,
 "nbformat_minor": 2
}
