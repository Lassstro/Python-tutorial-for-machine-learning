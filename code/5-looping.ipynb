{
 "cells": [
  {
   "attachments": {},
   "cell_type": "markdown",
   "metadata": {},
   "source": [
    "<h1 style=\"text-align: center;\">Lesson 5: Looping</h1>"
   ]
  },
  {
   "attachments": {},
   "cell_type": "markdown",
   "metadata": {},
   "source": [
    "## Đặt vấn đề"
   ]
  },
  {
   "attachments": {},
   "cell_type": "markdown",
   "metadata": {},
   "source": [
    "Bản chất của lập trình là tận dụng khả năng tính toán của máy tính để thực hiện mục đích của con người. Và cái tiêu biểu nhất của máy tính là nó có thể lặp lại một thao tác rất nhiều lần mà không nhàm chán như con người.\n",
    "\n",
    "Dù là lần đầu hay lần thứ 1000 nó đều ra cho kết quả giống nhau. Hoặc việc thao tác với các phần tử trên một danh sách\n",
    "\n",
    "Trong python có 2 loại vòng lặp\n",
    "\n",
    "1. For loop\n",
    "\n",
    "Dùng để lặp lại 1 số lần nhất định hoặc lặp qua một dãy cố định\n",
    "\n",
    "2. while loop\n",
    "\n",
    "Dùng để lặp vô hạn đến khi điều kiện thỏa mãn hoặc một thay đổi nào đấy"
   ]
  },
  {
   "attachments": {},
   "cell_type": "markdown",
   "metadata": {},
   "source": [
    "## For loop"
   ]
  },
  {
   "attachments": {},
   "cell_type": "markdown",
   "metadata": {},
   "source": [
    "Vòng lặp for có thể dùng để thực hiện 1 khối lệnh n lần. Khi đó nó sẽ dùng hàm range()"
   ]
  },
  {
   "cell_type": "code",
   "execution_count": 11,
   "metadata": {},
   "outputs": [
    {
     "name": "stdout",
     "output_type": "stream",
     "text": [
      "lần chạy thứ 1\n",
      "lần chạy thứ 3\n",
      "lần chạy thứ 5\n",
      "lần chạy thứ 7\n",
      "lần chạy thứ 9\n"
     ]
    }
   ],
   "source": [
    "for i in range(1,10,2):\n",
    "    print('lần chạy thứ', i)"
   ]
  },
  {
   "attachments": {},
   "cell_type": "markdown",
   "metadata": {},
   "source": [
    "Vòng lặp for xử lí các phần tử trong một chuỗi hoặc một danh sách"
   ]
  },
  {
   "cell_type": "code",
   "execution_count": 1,
   "metadata": {},
   "outputs": [
    {
     "name": "stdout",
     "output_type": "stream",
     "text": [
      "1\n",
      "5\n",
      "6\n",
      "7\n",
      "8\n"
     ]
    }
   ],
   "source": [
    "test_list = [1, 5, 6, 7, 8]\n",
    "for item in test_list:\n",
    "    print(item)"
   ]
  },
  {
   "attachments": {},
   "cell_type": "markdown",
   "metadata": {},
   "source": [
    "Khi lặp qua danh sách cần lấy index luôn ta có thể dùng 1 cách sau:"
   ]
  },
  {
   "cell_type": "code",
   "execution_count": 13,
   "metadata": {},
   "outputs": [
    {
     "name": "stdout",
     "output_type": "stream",
     "text": [
      "Vòng lặp sử dụng range(len())\n",
      "0 : Hôm\n",
      "1 : nay\n",
      "2 : là\n",
      "3 : thứ\n",
      "4 : tư\n",
      "Vòng lặp sử dụng enumerate()\n",
      "[(0, 'Hôm'), (1, 'nay'), (2, 'là'), (3, 'thứ'), (4, 'tư')]\n",
      "0 : Hôm\n",
      "1 : nay\n",
      "2 : là\n",
      "3 : thứ\n",
      "4 : tư\n"
     ]
    }
   ],
   "source": [
    "test_list = ['Hôm', 'nay', 'là', 'thứ', 'tư']\n",
    "print('Vòng lặp sử dụng range(len())')\n",
    "for i in range(len(test_list)):\n",
    "    print(i, ':', test_list[i])\n",
    "\n",
    "print('Vòng lặp sử dụng enumerate()')\n",
    "print(enumerate(test_list))\n",
    "for index, value in enumerate(test_list):\n",
    "    print(index, ':', value)\n"
   ]
  },
  {
   "cell_type": "code",
   "execution_count": 28,
   "metadata": {},
   "outputs": [
    {
     "name": "stdout",
     "output_type": "stream",
     "text": [
      "[(0, 'Hôm'), (1, 'nay'), (2, 'là'), (3, 'thứ'), (4, 'tư')]\n",
      "0 : Hôm\n",
      "1 : nay\n",
      "2 : là\n",
      "3 : thứ\n",
      "4 : tư\n"
     ]
    }
   ],
   "source": [
    "test_list = ['Hôm', 'nay', 'là', 'thứ', 'tư']\n",
    "print(list(enumerate(test_list)))\n",
    "for index, value in enumerate(test_list):\n",
    "    print(index, ':', value)"
   ]
  },
  {
   "attachments": {},
   "cell_type": "markdown",
   "metadata": {},
   "source": [
    "Cú pháp rút gọn:"
   ]
  },
  {
   "cell_type": "code",
   "execution_count": 18,
   "metadata": {},
   "outputs": [
    {
     "name": "stdout",
     "output_type": "stream",
     "text": [
      "{0: 'Hôm', 1: 'nay', 2: 'là', 3: 'thứ', 4: 'tư'}\n"
     ]
    }
   ],
   "source": [
    "test_list = ['Hôm', 'nay', 'là', 'thứ', 'tư']\n",
    "for_loop = dict((index, value) for index, value in enumerate(test_list))\n",
    "print(for_loop)"
   ]
  },
  {
   "attachments": {},
   "cell_type": "markdown",
   "metadata": {},
   "source": [
    "Ngoài ra có thể lồng cấu trúc điều kiện vào trong for luôn như này"
   ]
  },
  {
   "cell_type": "code",
   "execution_count": 19,
   "metadata": {},
   "outputs": [
    {
     "name": "stdout",
     "output_type": "stream",
     "text": [
      "{3: 'thứ'}\n"
     ]
    }
   ],
   "source": [
    "test_list = ['Hôm', 'nay', 'là', 'thứ', 'tư']\n",
    "for_loop = {index : value for index, value in enumerate(test_list) if value == \"thứ\"}\n",
    "print(for_loop)"
   ]
  },
  {
   "attachments": {},
   "cell_type": "markdown",
   "metadata": {},
   "source": [
    "Kiến thức nâng cao về toán tử 3 ngôi:"
   ]
  },
  {
   "cell_type": "code",
   "execution_count": 12,
   "metadata": {},
   "outputs": [
    {
     "name": "stdout",
     "output_type": "stream",
     "text": [
      "Người lớn\n"
     ]
    }
   ],
   "source": [
    "age = 19\n",
    "if (age > 18):\n",
    "    print('Người lớn')\n",
    "else:\n",
    "    print('Trẻ con')"
   ]
  },
  {
   "cell_type": "code",
   "execution_count": 13,
   "metadata": {},
   "outputs": [
    {
     "name": "stdout",
     "output_type": "stream",
     "text": [
      "người lớn\n"
     ]
    }
   ],
   "source": [
    "age = 19\n",
    "print('người lớn') if age > 18 else print('Trẻ con')"
   ]
  },
  {
   "attachments": {},
   "cell_type": "markdown",
   "metadata": {},
   "source": [
    "Sử dụng cấu trúc rút gọn với thực hiện lệnh"
   ]
  },
  {
   "cell_type": "code",
   "execution_count": 20,
   "metadata": {},
   "outputs": [
    {
     "name": "stdout",
     "output_type": "stream",
     "text": [
      "0 Hôm\n",
      "1 nay\n",
      "2 là\n",
      "3 thứ\n",
      "4 tư\n"
     ]
    }
   ],
   "source": [
    "for index, value in enumerate(test_list):\n",
    "    print(index, value)"
   ]
  },
  {
   "cell_type": "code",
   "execution_count": 21,
   "metadata": {},
   "outputs": [
    {
     "name": "stdout",
     "output_type": "stream",
     "text": [
      "0 Hôm\n",
      "1 nay\n",
      "2 là\n",
      "3 thứ\n",
      "4 tư\n"
     ]
    },
    {
     "data": {
      "text/plain": [
       "False"
      ]
     },
     "execution_count": 21,
     "metadata": {},
     "output_type": "execute_result"
    }
   ],
   "source": [
    "any(print(index, value) for index, value in enumerate(test_list))"
   ]
  },
  {
   "attachments": {},
   "cell_type": "markdown",
   "metadata": {},
   "source": [
    "Như vậy, vòng lặp for tuy là cơ bản, dễ hiểu dễ sử dụng Nhưng để sử dụng thành tạo nó, sử dụng đúng logic lại là căn cơ của lập trình. Phải rèn luyện tư duy logic để sử dụng thành thạo các cấu trúc for if.\n",
    "\n",
    "Bên cạnh đó là nắm được các cấu trúc viết gọn để code được gọn gàng sạch đẹp hơn. Tuy nhiên việc này cũng làm cho code khó hiểu hơn, vì vậy cần dùng hợp lí phù hợp với mục đích sử dụng"
   ]
  },
  {
   "attachments": {},
   "cell_type": "markdown",
   "metadata": {},
   "source": [
    "## While loop"
   ]
  },
  {
   "attachments": {
    "image.png": {
     "image/png": "[encoded data removed]"
    }
   },
   "cell_type": "markdown",
   "metadata": {},
   "source": [
    "Khi đã hiểu được for loop, while loop cũng tương tự.\n",
    "\n",
    "While loop là cấu trúc lặp vô hạn (nói là vô hạn nhưng nó cũng chỉ lặp tới giới hạn bộ nhớ thôi), nếu không có tác động bên ngoài\n",
    "\n",
    "![image.png](attachment:image.png)"
   ]
  },
  {
   "cell_type": "code",
   "execution_count": null,
   "metadata": {},
   "outputs": [],
   "source": [
    "while True:\n",
    "    print('hello')"
   ]
  },
  {
   "attachments": {},
   "cell_type": "markdown",
   "metadata": {},
   "source": [
    "Khi vô tình rơi vào vòng lặp vô hạn, hãy dừng chương trình bằng cách ấn Ctrl + C đối với terminal, còn đối với jupyter thì ấn nut pause ngay cạnh nhé"
   ]
  },
  {
   "attachments": {},
   "cell_type": "markdown",
   "metadata": {},
   "source": [
    "Tuy nhiên khi sử dụng, người ta sẽ đặt điều kiện để nó thoát vòng lặp. Có 2 cách như sau:"
   ]
  },
  {
   "attachments": {},
   "cell_type": "markdown",
   "metadata": {},
   "source": [
    "cách 1: sử dụng điều kiện lặp"
   ]
  },
  {
   "cell_type": "code",
   "execution_count": 30,
   "metadata": {},
   "outputs": [
    {
     "name": "stdout",
     "output_type": "stream",
     "text": [
      "0\n",
      "1\n",
      "2\n",
      "3\n",
      "4\n"
     ]
    }
   ],
   "source": [
    "a = 0\n",
    "while a < 5:\n",
    "    print(a)\n",
    "    a+=1 # a=a+1"
   ]
  },
  {
   "attachments": {},
   "cell_type": "markdown",
   "metadata": {},
   "source": [
    "Nhìn kia, bạn có thấy kết quả này quen quen không. Đó chính là vòng lặp for từ 0 = > 5 đấy. Bởi thế, nó có thể thay thế cho for"
   ]
  },
  {
   "attachments": {},
   "cell_type": "markdown",
   "metadata": {},
   "source": [
    "Cách 2: dùng break"
   ]
  },
  {
   "cell_type": "code",
   "execution_count": 35,
   "metadata": {},
   "outputs": [
    {
     "name": "stdout",
     "output_type": "stream",
     "text": [
      "0\n",
      "1\n",
      "2\n",
      "3\n",
      "4\n",
      "5\n"
     ]
    }
   ],
   "source": [
    "a = 0\n",
    "while True:\n",
    "    print(a)\n",
    "    a += 1\n",
    "    if a == 7:\n",
    "        break\n",
    "    if a > 5:\n",
    "        break"
   ]
  },
  {
   "attachments": {},
   "cell_type": "markdown",
   "metadata": {},
   "source": [
    "## Tổng kết"
   ]
  },
  {
   "attachments": {},
   "cell_type": "markdown",
   "metadata": {},
   "source": [
    "Đây là 2 vòng lặp cơ bản trong python. Chúng ta dùng nó để thực hiện 1 hành đồng lặp đi lặp lại\n",
    "\n",
    "Dù 2 cái này có thể thay thế cho nhau, tuy nhiên hãy dùng nó đúng ngữ cảnh\n",
    "\n",
    "vòng for: Dùng để lặp 1 số lần nhất định, lặp qua các list, tuple, dict,... \n",
    "\n",
    "vòng while: Dùng khi cần lặp đến số lần không xác định, dừng khi có điều kiện dừng"
   ]
  },
  {
   "attachments": {},
   "cell_type": "markdown",
   "metadata": {},
   "source": [
    "## Bài tập:"
   ]
  },
  {
   "attachments": {},
   "cell_type": "markdown",
   "metadata": {},
   "source": [
    "Cho một list nums gồm các số int. Tìm vị trí 2 số có tổng bằng target\n",
    "Ví dụ:\n",
    "input:\n",
    "- items = [1, 2, 3, 5, 0]\n",
    "- target = 5\n",
    "=> 2 + 3 = 5 nên output = [1, 2]\n",
    "\n",
    "- items = [2, 5, 8, 9]\n",
    "- target = 10\n",
    "=> 2+8 = 10 nên output = [0, 2]"
   ]
  },
  {
   "cell_type": "code",
   "execution_count": 3,
   "metadata": {},
   "outputs": [
    {
     "name": "stdout",
     "output_type": "stream",
     "text": [
      "0\n",
      "1\n",
      "2\n",
      "3\n",
      "4\n",
      "5\n"
     ]
    }
   ],
   "source": [
    "for i in range(6):\n",
    "    print(i)"
   ]
  },
  {
   "cell_type": "code",
   "execution_count": 15,
   "metadata": {},
   "outputs": [
    {
     "name": "stdout",
     "output_type": "stream",
     "text": [
      "[(0, 3), (0, 5), (0, 7), (1, 4), (2, 3), (2, 5), (2, 7), (3, 6), (5, 6), (6, 7)]\n"
     ]
    }
   ],
   "source": [
    "nums = [3, 2, 3, 4, 5, 4, 3, 4]\n",
    "target = 7\n",
    "two_sum = []\n",
    "for i in range(len(nums) - 1): # nó lặp từ i=0 đến i=4\n",
    "    for j in range(i+1, len(nums)):\n",
    "        if nums[i] + nums[j] == target:\n",
    "            two_sum.append((i, j))\n",
    "# i=0 => Lặp từ j=1 đến j=5: so sánh nums[i] + nums[j] == target\n",
    "# i=1 => lặp từ j=2 đến j=5\n",
    "print(two_sum)"
   ]
  },
  {
   "cell_type": "code",
   "execution_count": 6,
   "metadata": {},
   "outputs": [
    {
     "name": "stdout",
     "output_type": "stream",
     "text": [
      "{5: 0}\n",
      "{5: 0, 4: 1}\n"
     ]
    }
   ],
   "source": [
    "hashmap = {}\n",
    "hashmap[5] = 0\n",
    "print(hashmap)\n",
    "hashmap[4] = 1\n",
    "print(hashmap)\n"
   ]
  },
  {
   "cell_type": "code",
   "execution_count": 12,
   "metadata": {},
   "outputs": [
    {
     "name": "stdout",
     "output_type": "stream",
     "text": [
      "[(2, 3), (1, 4), (2, 5), (6, 7)]\n"
     ]
    }
   ],
   "source": [
    "nums = [1, 2, 3, 4, 5, 4]\n",
    "target = 6\n",
    "hashmap = {} # đây là một dict\n",
    "two_sum = []\n",
    "for index, value in enumerate(nums):\n",
    "    complement = target - value\n",
    "    if value in hashmap:\n",
    "        two_sum.append((hashmap[value], index))\n",
    "    else:\n",
    "        hashmap[complement] = index\n",
    "print(two_sum)\n",
    "# '''\n",
    "# Lần lặp 1: index = 0, value = 1, complement = 5\n",
    "#             hashmap = {'5':0}\n",
    "# lần lặp 2: index = 1, value = 2, complement = 4\n",
    "#             hashmap = {'5':0, '4':1}\n",
    "# lần thứ 3: index = 2, value = 3, complement = 3\n",
    "#             hashmap = {'5':0, '4':1, '3':2}\n",
    "# lần thứ 4: index = 3, value = 4, complement = 2\n",
    "#             hashmap = {'5':0, '4':1, '3':2}\n",
    "#             print() => 1 3\n",
    "# lần thứ 5: index = 4, value = 5, complement = 1\n",
    "#             hashmap = {'5':0, '4':1, '3':2}\n",
    "#             print() => 0 4\n",
    "# lần thứ 6: index = 5, value = 4, complement = 2\n",
    "#             hashmap = {'5':0, '4':1, '3':2}\n",
    "#             print() => 1 5\n",
    "# '''"
   ]
  },
  {
   "cell_type": "code",
   "execution_count": 10,
   "metadata": {},
   "outputs": [
    {
     "name": "stdout",
     "output_type": "stream",
     "text": [
      "[(2, 3), (1, 4), (2, 5), (6, 7)]\n"
     ]
    }
   ],
   "source": [
    "nums = [3, 2, 3, 4, 5, 4, 3, 4]\n",
    "target = 7\n",
    "hashmap = {} # đây là một dict\n",
    "two_sum = []\n",
    "for index, value in enumerate(nums):\n",
    "    complement = target - value\n",
    "    if value in hashmap:\n",
    "        two_sum.append((hashmap[value], index))\n",
    "    else:\n",
    "        hashmap[complement] = index\n",
    "print(two_sum)"
   ]
  }
 ],
 "metadata": {
  "kernelspec": {
   "display_name": "base",
   "language": "python",
   "name": "python3"
  },
  "language_info": {
   "codemirror_mode": {
    "name": "ipython",
    "version": 3
   },
   "file_extension": ".py",
   "mimetype": "text/x-python",
   "name": "python",
   "nbconvert_exporter": "python",
   "pygments_lexer": "ipython3",
   "version": "3.8.3"
  },
  "orig_nbformat": 4
 },
 "nbformat": 4,
 "nbformat_minor": 2
}
